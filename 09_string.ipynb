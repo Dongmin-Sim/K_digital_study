{
 "cells": [
  {
   "cell_type": "markdown",
   "metadata": {},
   "source": [
    "# 문자열 다루기"
   ]
  },
  {
   "cell_type": "markdown",
   "metadata": {},
   "source": [
    "파이썬에서 문자열은 작은 따옴표나 큰 따옴표로 감싸서 만듦"
   ]
  },
  {
   "cell_type": "code",
   "execution_count": 1,
   "metadata": {},
   "outputs": [],
   "source": [
    "word = 'grail'\n",
    "sent = 'a scratch'"
   ]
  },
  {
   "cell_type": "markdown",
   "metadata": {},
   "source": [
    "문자열도 인덱스를 사용하여 추출할 수 있음. 그러나 요소의 값을 변경할 수는 없음"
   ]
  },
  {
   "cell_type": "code",
   "execution_count": 2,
   "metadata": {},
   "outputs": [
    {
     "name": "stdout",
     "output_type": "stream",
     "text": [
      "g r a i l\n",
      "g r a i l\n"
     ]
    }
   ],
   "source": [
    "# word 문자열 인덱스로 접근하기 \n",
    "print(word[0],word[1], word[2], word[3], word[4])\n",
    "print(word[-5],word[-4], word[-3], word[-2], word[-1])"
   ]
  },
  {
   "cell_type": "code",
   "execution_count": 3,
   "metadata": {},
   "outputs": [
    {
     "name": "stdout",
     "output_type": "stream",
     "text": [
      "a   s c r a t c h\n",
      "a   s c r a t c h\n"
     ]
    }
   ],
   "source": [
    "# sent 문자열 인덱스로 접근하기 (띄어쓰기도 포함됨)\n",
    "print(sent[0],sent[1],sent[2],sent[3],sent[4],sent[5],sent[6],sent[7],sent[8])\n",
    "print(sent[-9],sent[-8],sent[-7],sent[-6],sent[-5],sent[-4],sent[-3],sent[-2],sent[-1])"
   ]
  },
  {
   "cell_type": "markdown",
   "metadata": {},
   "source": [
    "# 문자열 추출하기"
   ]
  },
  {
   "cell_type": "code",
   "execution_count": 4,
   "metadata": {},
   "outputs": [
    {
     "name": "stdout",
     "output_type": "stream",
     "text": [
      "gra\n"
     ]
    }
   ],
   "source": [
    "# 인덱스 슬라이싱을 이용해 추출\n",
    "print(word[0:3])"
   ]
  },
  {
   "cell_type": "code",
   "execution_count": 5,
   "metadata": {},
   "outputs": [
    {
     "name": "stdout",
     "output_type": "stream",
     "text": [
      "h\n",
      "a\n",
      "a\n"
     ]
    }
   ],
   "source": [
    "# 인덱스 음수를 사용하여 추출\n",
    "print(sent[-1])\n",
    "print(sent[-9:-8])\n",
    "print(sent[0:-8])"
   ]
  },
  {
   "cell_type": "markdown",
   "metadata": {},
   "source": [
    "# 전체 문자열 추출하기"
   ]
  },
  {
   "cell_type": "markdown",
   "metadata": {},
   "source": [
    "전체 문자열을 추출할 때, 음수를 사용하면 안됨  \n",
    "슬라이싱에서 : 오른쪽의 값은 포함되지 않기 때문임.  \n",
    "len 함수를 사용하여 문자열의 길이를 지정해도 가능함.  \n",
    "차라리 : 뒤에 인덱스를 쓰지 않는 방법도 가능함.  "
   ]
  },
  {
   "cell_type": "code",
   "execution_count": 6,
   "metadata": {},
   "outputs": [
    {
     "name": "stdout",
     "output_type": "stream",
     "text": [
      "scratc\n",
      "scratc\n"
     ]
    }
   ],
   "source": [
    "print(sent[2:-1])\n",
    "print(sent[-7:-1])"
   ]
  },
  {
   "cell_type": "code",
   "execution_count": 7,
   "metadata": {},
   "outputs": [
    {
     "name": "stdout",
     "output_type": "stream",
     "text": [
      "9\n"
     ]
    }
   ],
   "source": [
    "s = len(sent)\n",
    "print(s)"
   ]
  },
  {
   "cell_type": "code",
   "execution_count": 8,
   "metadata": {},
   "outputs": [
    {
     "name": "stdout",
     "output_type": "stream",
     "text": [
      "scratch\n"
     ]
    }
   ],
   "source": [
    "print(sent[2:s])"
   ]
  },
  {
   "cell_type": "code",
   "execution_count": 9,
   "metadata": {},
   "outputs": [
    {
     "name": "stdout",
     "output_type": "stream",
     "text": [
      "scratch\n"
     ]
    }
   ],
   "source": [
    "print(sent[2:])"
   ]
  },
  {
   "cell_type": "markdown",
   "metadata": {},
   "source": [
    "# 왼쪽이나 오른쪽 범위를 지정하지 않고 문자열 추출하기"
   ]
  },
  {
   "cell_type": "markdown",
   "metadata": {},
   "source": [
    "인덱스 슬라이싱에서 [왼쪽:오른쪽]  \n",
    "왼쪽의 범위가 비어있으면 문자열의 처음 ~ 오른쪽-1까지 추출함  \n",
    "오른쪽의 범위가 비어있으면, 왼쪽 ~ 끝까지 추출함."
   ]
  },
  {
   "cell_type": "code",
   "execution_count": 10,
   "metadata": {},
   "outputs": [
    {
     "name": "stdout",
     "output_type": "stream",
     "text": [
      "gra\n",
      "gra\n"
     ]
    }
   ],
   "source": [
    "# 왼쪽의 범위가 비어있을때\n",
    "print(word[0:3])\n",
    "print(word[:3])"
   ]
  },
  {
   "cell_type": "code",
   "execution_count": 11,
   "metadata": {},
   "outputs": [
    {
     "name": "stdout",
     "output_type": "stream",
     "text": [
      "scratch\n",
      "scratch\n"
     ]
    }
   ],
   "source": [
    "# 오른쪽의 범위가 비어있을때\n",
    "print(sent[2:len(sent)])\n",
    "print(sent[2:])"
   ]
  },
  {
   "cell_type": "code",
   "execution_count": 12,
   "metadata": {},
   "outputs": [
    {
     "name": "stdout",
     "output_type": "stream",
     "text": [
      "a scratch\n",
      "a scratch\n"
     ]
    }
   ],
   "source": [
    "# 양쪽이 비어있을때\n",
    "print(sent[:])\n",
    "print(sent)"
   ]
  },
  {
   "cell_type": "code",
   "execution_count": 13,
   "metadata": {},
   "outputs": [
    {
     "name": "stdout",
     "output_type": "stream",
     "text": [
      "asrth\n"
     ]
    }
   ],
   "source": [
    "# step 간격을 설정하여 추출할 때  (2로 설정할 경우, 첫 문자에서 2거리 간격으로 추출함 == 1칸 건너뛰기)\n",
    "print(sent[::2])"
   ]
  },
  {
   "cell_type": "markdown",
   "metadata": {},
   "source": [
    "# 문자열 메서드\n",
    "문자열을 다루기 위한 다양한 문자열 메서드가 존재함  "
   ]
  },
  {
   "cell_type": "markdown",
   "metadata": {},
   "source": [
    "|메서드|내용|\n",
    "|:---:|:---:|\n",
    "|**capitalize**|첫 문자를 대문자로 변환|\n",
    "|**count**|문자열의 개수를 반환|\n",
    "|startswith|문자열이 특정 문자로 시작하면 참이 됨|\n",
    "|endswith|문자열이 특정 문자로 끝나면 참이 됨|\n",
    "|find|찾을 문자열의 첫 번째 인덱스를 반환, 실패시 -1을 반환|\n",
    "|**index**|find 메서드와 같은 역할을 수행하지만, 실패시 ValueError를 반환함|\n",
    "|isalpha|모든 문자가 알파벳이면 참|\n",
    "|isdecimal|모든 문자가 알파벳이거나 숫자면 참|\n",
    "|**lower**|모든 문자를 소문자로 변환|\n",
    "|**upper**|모든 문자를 대문자로 변환|\n",
    "|**replace**|문자열의 문자를 다른 문자로 교체|\n",
    "|**strip**|문자열의 맨 앞과 맨 뒤에 있는 빈칸을 제거|\n",
    "|**split**|구분자를 지정하여, 문자열을 나누고, 나눈 값들의 **리스트**를 반환|\n",
    "|partition|split 와 비슷한 역할, 구분자도 같이 반환함|\n",
    "|center|지정한 너비로 문자열을 늘이고, 문자열을 가운데 정렬|\n",
    "|**zfill**|문자열의 빈칸을 '0'으로 채움|\n"
   ]
  },
  {
   "cell_type": "code",
   "execution_count": 39,
   "metadata": {},
   "outputs": [
    {
     "name": "stdout",
     "output_type": "stream",
     "text": [
      "peace is a concept of societal friendship and harmony, 10 pages \n",
      "\n",
      "첫 문자를 대문자로 변환 :  Peace is a concept of societal friendship and harmony, 10 pages\n",
      "문자열의 개수를 반환 :  6\n",
      "문자열이 특정 문자로 시작하면 참이 됨 :  True\n",
      "문자열이 특정 문자로 끝나면 참이 됨 :  True\n",
      "찾을 문자열의 첫 번째 인덱스를 반환, 실패시 -1을 반환 :  7\n",
      "find 메서드와 같은 역할을 수행하지만, 실패시 ValueError를 반환함 :  7\n",
      "모든 문자가 알파벳이면 참 :  False\n",
      "모든 문자가 알파벳이거나 숫자면 참 :  False\n",
      "모든 문자를 소문자로 변환 :  peace is a concept of societal friendship and harmony, 10 pages\n",
      "모든 문자를 대문자로 변환 :  PEACE IS A CONCEPT OF SOCIETAL FRIENDSHIP AND HARMONY, 10 PAGES\n",
      "문자열의 문자를 다른 문자로 교체 :  Nice is a concept of societal friendship and harmony, 10 pages\n",
      "문자열의 맨 앞과 맨 뒤에 있는 빈칸을 제거 :  peace is a concept of societal friendship and harmony, 10 pages\n",
      "구분자를 지정하여, 문자열을 나누고, 나눈 값들의 리스트를 반환 :  ['peace', 'is', 'a', 'concept', 'of', 'societal', 'friendship', 'and', 'harmony,', '10', 'pages']\n",
      "split 와 비슷한 역할, 구분자도 같이 반환함 :  ('peace', ' ', 'is a concept of societal friendship and harmony, 10 pages')\n",
      "지정한 너비로 문자열을 늘이고, 문자열을 가운데 정렬 :              nidesa            \n",
      "문자열의 빈칸을 0으로 채움 :  0000000009\n"
     ]
    }
   ],
   "source": [
    "sentence = 'peace is a concept of societal friendship and harmony, 10 pages'\n",
    "print(sentence, '\\n')\n",
    "print('첫 문자를 대문자로 변환 : ',sentence.capitalize())\n",
    "print('문자열의 개수를 반환 : ',sentence.count('a'))\n",
    "print('문자열이 특정 문자로 시작하면 참이 됨 : ',sentence.startswith('p'))\n",
    "print('문자열이 특정 문자로 끝나면 참이 됨 : ',sentence.endswith('s'))\n",
    "print('찾을 문자열의 첫 번째 인덱스를 반환, 실패시 -1을 반환 : ',sentence.find('s'))\n",
    "print('find 메서드와 같은 역할을 수행하지만, 실패시 ValueError를 반환함 : ',sentence.index('s'))\n",
    "print('모든 문자가 알파벳이면 참 : ',sentence.isalpha())\n",
    "print('모든 문자가 알파벳이거나 숫자면 참 : ',sentence.isdecimal())\n",
    "print('모든 문자를 소문자로 변환 : ',sentence.lower())\n",
    "print('모든 문자를 대문자로 변환 : ',sentence.upper())\n",
    "print('문자열의 문자를 다른 문자로 교체 : ',sentence.replace('peace', 'Nice'))\n",
    "print('문자열의 맨 앞과 맨 뒤에 있는 빈칸을 제거 : ',sentence.strip())\n",
    "print('구분자를 지정하여, 문자열을 나누고, 나눈 값들의 리스트를 반환 : ',sentence.split(sep=' '))\n",
    "print('split 와 비슷한 역할, 구분자도 같이 반환함 : ', sentence.partition(' '))\n",
    "print('지정한 너비로 문자열을 늘이고, 문자열을 가운데 정렬 : ','nidesa'.center(30))\n",
    "print('문자열의 빈칸을 0으로 채움 : ', '9'.zfill(10))"
   ]
  },
  {
   "cell_type": "markdown",
   "metadata": {},
   "source": [
    "# join, splitlines, replace 메서드 실습하기"
   ]
  },
  {
   "cell_type": "code",
   "execution_count": 15,
   "metadata": {},
   "outputs": [
    {
     "name": "stdout",
     "output_type": "stream",
     "text": [
      "40º 46' 52.837\" N 73º 58' 26.302\" W\n"
     ]
    }
   ],
   "source": [
    "# join 메서드, 문자열을 연결하여 새로운 문자열을 반환하는 메서드\n",
    "d1='40º'\n",
    "m1=\"46'\"\n",
    "s1='52.837\"'\n",
    "u1='N'\n",
    "\n",
    "d2='73º'\n",
    "m2=\"58'\"\n",
    "s2='26.302\"'\n",
    "u2='W'\n",
    "\n",
    "coords = ' '.join([d1, m1, s1, u1, d2, m2, s2, u2])\n",
    "print(coords)"
   ]
  },
  {
   "cell_type": "code",
   "execution_count": 16,
   "metadata": {},
   "outputs": [
    {
     "name": "stdout",
     "output_type": "stream",
     "text": [
      "Guard : WHAT? Ridden on a horse?\n",
      "King Arthus : Yes! \n",
      "Guard : You're using coconuts! \n",
      "King Arthus : What?\n",
      "Guard : You've got ... coconut[s] and you're bangin' 'em together\n",
      "\n"
     ]
    }
   ],
   "source": [
    "# splitlines 메서드, 여러 행을 가진 문자열을 분리한 다음 리스트로 반환 \n",
    "multi_str = \"\"\"Guard : WHAT? Ridden on a horse?\n",
    "King Arthus : Yes! \n",
    "Guard : You're using coconuts! \n",
    "King Arthus : What?\n",
    "Guard : You've got ... coconut[s] and you're bangin' 'em together\n",
    "\"\"\"\n",
    "\n",
    "print(multi_str)\n"
   ]
  },
  {
   "cell_type": "code",
   "execution_count": 17,
   "metadata": {},
   "outputs": [
    {
     "name": "stdout",
     "output_type": "stream",
     "text": [
      "['Guard : WHAT? Ridden on a horse?', 'King Arthus : Yes! ', \"Guard : You're using coconuts! \", 'King Arthus : What?', \"Guard : You've got ... coconut[s] and you're bangin' 'em together\"]\n"
     ]
    }
   ],
   "source": [
    "print(multi_str.splitlines())"
   ]
  },
  {
   "cell_type": "code",
   "execution_count": 18,
   "metadata": {},
   "outputs": [
    {
     "name": "stdout",
     "output_type": "stream",
     "text": [
      "['Guard : WHAT? Ridden on a horse?', \"Guard : You're using coconuts! \", \"Guard : You've got ... coconut[s] and you're bangin' 'em together\"]\n"
     ]
    }
   ],
   "source": [
    "# 인덱스 슬리이싱을 활용하여 Guard 의 대사만 가져오기\n",
    "gurad = multi_str.splitlines()[::2]\n",
    "print(gurad)"
   ]
  },
  {
   "cell_type": "code",
   "execution_count": 19,
   "metadata": {},
   "outputs": [
    {
     "name": "stdout",
     "output_type": "stream",
     "text": [
      "['WHAT? Ridden on a horse?', \"You're using coconuts! \", \"You've got ... coconut[s] and you're bangin' 'em together\"]\n"
     ]
    }
   ],
   "source": [
    "# replace 메서드, 문자열을 치환해주는 메서드\n",
    "# Guard: 를 제거하고 대사만 가져오기\n",
    "gurad = multi_str.replace('Guard : ', '').splitlines()[::2]\n",
    "print(gurad)"
   ]
  },
  {
   "cell_type": "markdown",
   "metadata": {},
   "source": [
    "# 문자열 포매팅 실습하기\n",
    "문자열 포매팅은 문자열을 편리하게 출력할 수 있게 해주는 기능  \n",
    "즉, 문자열 포매팅은 출력할 문자열의 형식을 지정하거나, 변수를 조합하여 출력하는 방법"
   ]
  },
  {
   "cell_type": "markdown",
   "metadata": {},
   "source": [
    "format 메서드 활용 "
   ]
  },
  {
   "cell_type": "code",
   "execution_count": 20,
   "metadata": {},
   "outputs": [
    {
     "name": "stdout",
     "output_type": "stream",
     "text": [
      "It's just a flesh wound!\n",
      "It's just a scratch!\n"
     ]
    }
   ],
   "source": [
    "var = 'flesh wound'\n",
    "s = \"It's just a {}!\"\n",
    "\n",
    "# format 메서드에 {}플레이스 홀더에 삽입할 단어를 전달\n",
    "print(s.format(var))\n",
    "print(s.format('scratch'))"
   ]
  },
  {
   "cell_type": "markdown",
   "metadata": {},
   "source": [
    "format 메서드에 여러 단어를 전달하여 사용할 수 있음.  \n",
    "인덱스 개념을 응용하면 가능함.  "
   ]
  },
  {
   "cell_type": "code",
   "execution_count": 21,
   "metadata": {},
   "outputs": [
    {
     "name": "stdout",
     "output_type": "stream",
     "text": [
      "Black Knight : 'Tis but a scratch.\n",
      "King Arthur : A scratch? Your arm's off!\n",
      "\n",
      "Black Knight : 'Tis but a flesh wound.\n",
      "King Arthur : A scratch? Your arm's off!\n",
      "\n"
     ]
    }
   ],
   "source": [
    "# 여러 단어를 전달\n",
    "s = \"\"\"Black Knight : 'Tis but a {0}.\n",
    "King Arthur : A {0}? Your arm's off!\n",
    "\"\"\"\n",
    "print(s.format('scratch'))\n",
    "\n",
    "s = \"\"\"Black Knight : 'Tis but a {0}.\n",
    "King Arthur : A {1}? Your arm's off!\n",
    "\"\"\"\n",
    "print(s.format('flesh wound', 'scratch'))"
   ]
  },
  {
   "cell_type": "markdown",
   "metadata": {},
   "source": [
    "플레이스 홀더에 변수를 지정해도 됨.  \n",
    "format 메서드에 전달하는 문자열도 변수로 전달해야함"
   ]
  },
  {
   "cell_type": "code",
   "execution_count": 22,
   "metadata": {},
   "outputs": [
    {
     "name": "stdout",
     "output_type": "stream",
     "text": [
      "출구 맞은편에 있는 백화점에 들어가면 서점이 있어요\n"
     ]
    }
   ],
   "source": [
    "s = '출구 맞은편에 있는 {loc2}에 들어가면 {loc1}이 있어요'\n",
    "print(s.format(loc2 = '백화점', loc1= '서점'))"
   ]
  },
  {
   "cell_type": "markdown",
   "metadata": {},
   "source": [
    "# 수치값 포매팅 실습\n",
    "숫자 데이터 포매팅을 사용하면 실수의 소수점을 어디까지 출력할지 등등 숫자와 관련된 출력을 설정할 수 있음  "
   ]
  },
  {
   "cell_type": "code",
   "execution_count": 23,
   "metadata": {
    "scrolled": true
   },
   "outputs": [
    {
     "name": "stdout",
     "output_type": "stream",
     "text": [
      "Some digits of pi :3.14159265359\n"
     ]
    }
   ],
   "source": [
    "# 숫자 데이터에 {} 사용\n",
    "print('Some digits of pi :{}'.format(3.14159265359))"
   ]
  },
  {
   "cell_type": "code",
   "execution_count": 24,
   "metadata": {},
   "outputs": [
    {
     "name": "stdout",
     "output_type": "stream",
     "text": [
      "In 2005, Lu Chao of China recited 6,789,000 digits of pi\n"
     ]
    }
   ],
   "source": [
    "# {} 에 :, 를 넣어 천의 단위로 숫자를 표현할 수 있음\n",
    "print('In 2005, Lu Chao of China recited {:,} digits of pi'.format(6789000))"
   ]
  },
  {
   "cell_type": "markdown",
   "metadata": {},
   "source": [
    "{0:.4} 에서 0은 format에서 전달받을 값, .4 는 소숫점이하의 숫자를 4개까지 출력  (숫자가 시작되는 지점부터 4자리라는 뜻인듯)  \n",
    "% 를 사용하면 백분율로 환산하여 출력,  \n",
    "소수점 이하 자릿수 지정 == 고정 소수점 fixed point f를 사용  "
   ]
  },
  {
   "cell_type": "code",
   "execution_count": 25,
   "metadata": {},
   "outputs": [
    {
     "name": "stdout",
     "output_type": "stream",
     "text": [
      "0.00010310796877301516\n",
      "I remember 0.0001031 or 0.0103% of what Lu Chao recited\n",
      "I remember 0.00010 what Lu Chao recited\n"
     ]
    }
   ],
   "source": [
    "# 소수 포매팅 방법 \n",
    "print(7/67890)\n",
    "print('I remember {0:.4} or {0:.4%} of what Lu Chao recited'.format(7/67890))\n",
    "print('I remember {0:.5f} what Lu Chao recited'.format(7/67890))"
   ]
  },
  {
   "cell_type": "markdown",
   "metadata": {},
   "source": [
    "5자리의 숫자로 표현되어야 할때 전체 자리수의 남는 부분만큼 0으로 채워야 한다면,  \n",
    "{0:05d} 로 사용 5는 자리수를, d는 10진수를 의미"
   ]
  },
  {
   "cell_type": "code",
   "execution_count": 26,
   "metadata": {},
   "outputs": [
    {
     "name": "stdout",
     "output_type": "stream",
     "text": [
      "My ID number is 00042\n"
     ]
    }
   ],
   "source": [
    "# d 활용 \n",
    "print('My ID number is {0:05d}'.format(42))"
   ]
  },
  {
   "cell_type": "markdown",
   "metadata": {},
   "source": [
    "# % 연산자로 포매팅하기\n",
    "% 연산자로 포매팅이 가능함. "
   ]
  },
  {
   "cell_type": "code",
   "execution_count": 27,
   "metadata": {},
   "outputs": [
    {
     "name": "stdout",
     "output_type": "stream",
     "text": [
      "I only know 7 digits of pi\n"
     ]
    }
   ],
   "source": [
    "# 10진수 %d\n",
    "s = 'I only know %d digits of pi'%7\n",
    "print(s)"
   ]
  },
  {
   "cell_type": "code",
   "execution_count": 28,
   "metadata": {},
   "outputs": [
    {
     "name": "stdout",
     "output_type": "stream",
     "text": [
      "Some digits of e : 2.72\n"
     ]
    }
   ],
   "source": [
    "# 문자열 %s\n",
    "print('Some digits of %(cont)s : %(value).2f' % {'cont':'e', 'value':2.718})"
   ]
  },
  {
   "cell_type": "markdown",
   "metadata": {},
   "source": [
    "# f-strings로 포매팅 사용하기"
   ]
  },
  {
   "cell_type": "markdown",
   "metadata": {},
   "source": [
    "f-string 포매팅은 파이썬3.6버전에서 새로나온 포매팅 방법.  \n",
    "format매서드의 사용방법과 동일하나 f 를 문자열앞에 붙인다는 점이 다름.  \n",
    "f-string 은 읽기 쉽다는 점과, 문자열을 빠르게 처리한다는 장점이 있음"
   ]
  },
  {
   "cell_type": "code",
   "execution_count": 29,
   "metadata": {},
   "outputs": [
    {
     "name": "stdout",
     "output_type": "stream",
     "text": [
      "It's just a flesh wound!\n",
      "출구 맞은편에 있는 백화점에 들어가면 서점이 있어요\n"
     ]
    }
   ],
   "source": [
    "var = 'flesh wound'\n",
    "s = f\"It's just a {var}!\"\n",
    "print(s)\n",
    "\n",
    "loc1= '서점'\n",
    "loc2 = '백화점'\n",
    "s = f'출구 맞은편에 있는 {loc2}에 들어가면 {loc1}이 있어요'\n",
    "print(s)"
   ]
  },
  {
   "cell_type": "markdown",
   "metadata": {},
   "source": [
    "# 정규식으로 전화번호 패턴 찾기\n"
   ]
  },
  {
   "cell_type": "markdown",
   "metadata": {},
   "source": [
    "### 기본 정규식 문법\n",
    "|문법|코드|설명|\n",
    "|:---:|:--:|:---:|\n",
    "|.|.a|문자(a) 앞에 문자 1개가 있는 패턴을 찾음|\n",
    "|^|^I like|문자열의 처음부터 일치하는 패턴을 찾음|\n",
    "|$|  |문자열의 끝 부분부터 일치하는 패턴을 찾음|\n",
    "|*|n\\d*|n 이후 숫자(\\d) 가 0개 이상인 패턴을 찾음|\n",
    "|+|n\\d+|n 이후 숫자(\\d)가 1개 이상인 패턴을 찾음|\n",
    "|?|apple?|?의 앞의 문자(e)가 있거나 없는 패턴을 찾음|\n",
    "|{m}|n\\d{2}|n 이후 숫자(\\d)가 2개인 패턴을 찾음|\n",
    "|{m,n}|n\\d{2, 4}|n 이후 숫자(\\d)가 2개({2})이상, 4개({4})이하인 패턴을 찾음|\n",
    "|(backslash) | (backslash)*, (backslash)?, (backslash)+ |*, ?, +와 같은 특수문자를 검색할때 이스케이프 문자(\\)를 사용|\n",
    "|[]|[cfh]all|c,f,h 중 1개를 포함하고 나머지 문자열이 alla인 패턴을 찾음|\n",
    "|bar|apple (bar) application|apple이나application 중 하나만 있는 패턴을 찾음(OR 연산)|\n",
    "|()|(\\d+)-(\\d+)-(\\d+)|()에 지정한 패턴을 찾을때 사용\n"
   ]
  },
  {
   "cell_type": "markdown",
   "metadata": {},
   "source": [
    "### 정규식 특수 문자\n",
    "|특수 문자|설명|\n",
    "|:---:|:--:|\n",
    "|\\d| 숫자 1개를 의미함([0-9]와 동일)|\n",
    "|\\D| 숫자 이외의 문자 1개를 의미([^0-9]와 동일)|\n",
    "|\\s| 공백이나 탭 1개를 의미|\n",
    "|\\S| 공백 문자 이외의 문자 1개를 의미|\n",
    "|\\w| 알파벳 1개를 의미 | \n",
    "|\\W| 알파벳 이외의 문자 1개를 의미(한글, 중국어) |"
   ]
  },
  {
   "cell_type": "markdown",
   "metadata": {},
   "source": [
    "### 정규식 메서드\n",
    "|함수|설명|\n",
    "|:--:|:--:|\n",
    "|search|첫번째로 찾은 패턴의 양 끝 인덱스를 반환함|\n",
    "|match|문자열의 처음부터 검색하여 찾아낸 패턴의 양 끝 인덱스를 반환|\n",
    "|fullmatch|전체 문자열이 일치하는지 검사|\n",
    "|split|지정한 패턴으로 잘라낸 문자열을 리스트로 반환|\n",
    "|findall|지정한 패턴을 찾아 리스트로 반환|\n",
    "|finditer| findall 메서드와 기능이 동일, iterator을 반환|\n",
    "|sub|첫 번째 인자로 전달한 값(패턴)을 두 번째 인자로 전달한 값(easyspub) 로 교체|"
   ]
  },
  {
   "cell_type": "code",
   "execution_count": 30,
   "metadata": {},
   "outputs": [],
   "source": [
    "import re \n",
    "tele_num = '1234567890'"
   ]
  },
  {
   "cell_type": "markdown",
   "metadata": {},
   "source": [
    "match 매서드를 사용하여 길이가 10인 숫자를 확인해봄.  \n",
    "pattern= 인자에는 10개의 숫자를 의미하는 10개의 \\d 를  \n",
    "string= 인자에는 tele_num을 전달  \n",
    "\n",
    "만약 패턴을 찾으면 Match 오브젝트를 반환함, span에는 찾은 패턴의 인덱스를, match=에는 찾은 패턴의 문자열이 있는 것을 확인할 수 있음"
   ]
  },
  {
   "cell_type": "code",
   "execution_count": 31,
   "metadata": {},
   "outputs": [
    {
     "name": "stdout",
     "output_type": "stream",
     "text": [
      "<class 're.Match'>\n",
      "<re.Match object; span=(0, 10), match='1234567890'>\n"
     ]
    }
   ],
   "source": [
    "m = re.match(pattern='\\d\\d\\d\\d\\d\\d\\d\\d\\d\\d', string=tele_num)\n",
    "print(type(m))\n",
    "print(m)"
   ]
  },
  {
   "cell_type": "markdown",
   "metadata": {},
   "source": [
    "bool 메서드에 m을 전달하면 True, False 를 얻을 수 있음."
   ]
  },
  {
   "cell_type": "code",
   "execution_count": 32,
   "metadata": {},
   "outputs": [
    {
     "name": "stdout",
     "output_type": "stream",
     "text": [
      "True\n",
      "match\n"
     ]
    }
   ],
   "source": [
    "print(bool(m))\n",
    "if m: \n",
    "    print('match')\n",
    "else:\n",
    "    print('no match')"
   ]
  },
  {
   "cell_type": "markdown",
   "metadata": {},
   "source": [
    "Match 오브젝트에는 찾아낸 패턴의 정보를 확인할 수 있는 다양한 메서드가 존재함  \n",
    "start, end 메서드는 첫번째와 마지막 인덱스를 반환,  \n",
    "span 메서드는 찾은 패턴의 첫번째와 마지막 인덱스를 한번에 반환  \n",
    "group 메서드는 찾아낸 패턴을 반환"
   ]
  },
  {
   "cell_type": "code",
   "execution_count": 33,
   "metadata": {},
   "outputs": [
    {
     "name": "stdout",
     "output_type": "stream",
     "text": [
      "0\n",
      "10\n",
      "(0, 10)\n",
      "1234567890\n"
     ]
    }
   ],
   "source": [
    "print(m.start())\n",
    "print(m.end())\n",
    "print(m.span())\n",
    "print(m.group())"
   ]
  },
  {
   "cell_type": "markdown",
   "metadata": {},
   "source": [
    "전화번호를 입력하는 방식은 123-456-7890 같은 방법으로 이루어짐.  \n",
    "다음은 앞선 패턴을 그대로 새로운 방식에 적용한 코드임  \n",
    "패턴을 찾지 못하면 None 를 반환함.  "
   ]
  },
  {
   "cell_type": "code",
   "execution_count": 34,
   "metadata": {},
   "outputs": [
    {
     "name": "stdout",
     "output_type": "stream",
     "text": [
      "None\n",
      "no match\n"
     ]
    }
   ],
   "source": [
    "tele_num_spaces = '123 456 7890'\n",
    "m = re.match(pattern='\\d{10}', string=tele_num_spaces)\n",
    "print(m)\n",
    "\n",
    "if m: \n",
    "    print('match')\n",
    "else:\n",
    "    print('no match')"
   ]
  },
  {
   "cell_type": "markdown",
   "metadata": {},
   "source": [
    "위의 문제를 해결하려면 정규식을 다시 만들어야함.  \n",
    "빈칸을 의미하는 \\s? 를 넣어 패턴을 만들면 패턴을 찾을 수 있음"
   ]
  },
  {
   "cell_type": "code",
   "execution_count": 35,
   "metadata": {},
   "outputs": [
    {
     "name": "stdout",
     "output_type": "stream",
     "text": [
      "<re.Match object; span=(0, 12), match='123 456 7890'>\n",
      "match\n"
     ]
    }
   ],
   "source": [
    "p = '\\d{3}\\s?\\d{3}\\s?\\d{4}'\n",
    "m = re.match(pattern=p, string=tele_num_spaces)\n",
    "print(m)\n",
    "\n",
    "if m: \n",
    "    print('match')\n",
    "else:\n",
    "    print('no match')"
   ]
  },
  {
   "cell_type": "markdown",
   "metadata": {},
   "source": [
    "지역코드는 소괄호로 감싸고 나머지 번호는 반각 기호로 구분한 전화번호의 정규식은 다음과 같이 작성"
   ]
  },
  {
   "cell_type": "code",
   "execution_count": 36,
   "metadata": {},
   "outputs": [
    {
     "name": "stdout",
     "output_type": "stream",
     "text": [
      "<re.Match object; span=(0, 14), match='(123) 456-7890'>\n",
      "match\n"
     ]
    }
   ],
   "source": [
    "tele_num_paren_dash = '(123) 456-7890'\n",
    "p = '\\(?\\d{3}\\)?\\s?\\d{3}\\s?-?\\d{4}'\n",
    "m = re.match(pattern=p, string=tele_num_paren_dash)\n",
    "print(m)\n",
    "\n",
    "if m: \n",
    "    print('match')\n",
    "else:\n",
    "    print('no match')"
   ]
  },
  {
   "cell_type": "markdown",
   "metadata": {},
   "source": [
    "국가 코드까지 있는 전화번호의 정규식은 다음과 같이 작성"
   ]
  },
  {
   "cell_type": "code",
   "execution_count": 37,
   "metadata": {},
   "outputs": [
    {
     "name": "stdout",
     "output_type": "stream",
     "text": [
      "<re.Match object; span=(0, 17), match='+1 (123) 456-7890'>\n",
      "match\n"
     ]
    }
   ],
   "source": [
    "cnty_tele_num_paren_dash = '+1 (123) 456-7890'\n",
    "p = '\\+?1\\s?\\(?\\d{3}\\)?\\s?\\d{3}\\s?-?\\d{4}'\n",
    "m = re.match(pattern=p, string=cnty_tele_num_paren_dash)\n",
    "print(m)\n",
    "\n",
    "if m: \n",
    "    print('match')\n",
    "else:\n",
    "    print('no match')"
   ]
  },
  {
   "cell_type": "markdown",
   "metadata": {},
   "source": [
    "# compile 메서드로 정규식 메서드 사용하기"
   ]
  },
  {
   "cell_type": "markdown",
   "metadata": {},
   "source": [
    "패턴을 반복해서 사용하려면 compile 메서드로 패턴을 컴파일한 다음 변수에 저장하여 사용하면 됨.  \n",
    "패턴을 컴파일한 다음 변수에 저장했기 때문에 정규식 메서드를 반복해서 사용할 수 있어 매우 편리함.  "
   ]
  },
  {
   "cell_type": "code",
   "execution_count": 38,
   "metadata": {},
   "outputs": [
    {
     "name": "stdout",
     "output_type": "stream",
     "text": [
      "<re.Match object; span=(0, 10), match='1234567890'>\n"
     ]
    }
   ],
   "source": [
    "# re.match 메서드를 사용하지 않아도 되어 코드가 더 간결해짐\n",
    "p = re.compile('\\d{10}')\n",
    "s = '1234567890'\n",
    "m = p.match(s)\n",
    "print(m)"
   ]
  }
 ],
 "metadata": {
  "kernelspec": {
   "display_name": "Python 3",
   "language": "python",
   "name": "python3"
  },
  "language_info": {
   "codemirror_mode": {
    "name": "ipython",
    "version": 3
   },
   "file_extension": ".py",
   "mimetype": "text/x-python",
   "name": "python",
   "nbconvert_exporter": "python",
   "pygments_lexer": "ipython3",
   "version": "3.8.5"
  },
  "toc": {
   "base_numbering": 1,
   "nav_menu": {},
   "number_sections": true,
   "sideBar": true,
   "skip_h1_title": false,
   "title_cell": "Table of Contents",
   "title_sidebar": "Contents",
   "toc_cell": false,
   "toc_position": {},
   "toc_section_display": true,
   "toc_window_display": false
  },
  "varInspector": {
   "cols": {
    "lenName": 16,
    "lenType": 16,
    "lenVar": 40
   },
   "kernels_config": {
    "python": {
     "delete_cmd_postfix": "",
     "delete_cmd_prefix": "del ",
     "library": "var_list.py",
     "varRefreshCmd": "print(var_dic_list())"
    },
    "r": {
     "delete_cmd_postfix": ") ",
     "delete_cmd_prefix": "rm(",
     "library": "var_list.r",
     "varRefreshCmd": "cat(var_dic_list()) "
    }
   },
   "types_to_exclude": [
    "module",
    "function",
    "builtin_function_or_method",
    "instance",
    "_Feature"
   ],
   "window_display": false
  }
 },
 "nbformat": 4,
 "nbformat_minor": 1
}
