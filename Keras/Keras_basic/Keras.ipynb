{
 "cells": [
  {
   "cell_type": "markdown",
   "metadata": {},
   "source": [
    "# Keras 란\n",
    "* 파이썬으로 작성된 고수준 신경망 API \n",
    "* 사용자 친화성, 모듈성, 확장성을 통해 빠르게 프로토타이핑 가능\n",
    "* 컨볼루션, 순환신경망, 둘 조합까지 모두 지원\n",
    "* GPU, CPU에서 도구 실행 가능함\n"
   ]
  },
  {
   "cell_type": "code",
   "execution_count": 1,
   "metadata": {},
   "outputs": [
    {
     "data": {
      "text/plain": [
       "'2.4.0'"
      ]
     },
     "execution_count": 1,
     "metadata": {},
     "output_type": "execute_result"
    }
   ],
   "source": [
    "import numpy as np\n",
    "import tensorflow as tf\n",
    "\n",
    "tf.__version__"
   ]
  },
  {
   "cell_type": "markdown",
   "metadata": {},
   "source": [
    "레이어들을 import 하는 방식(1)\n",
    "* 일일이 import 하지 않아도 됨.\n",
    "* 코드가 다소 길어질 수 있음"
   ]
  },
  {
   "cell_type": "code",
   "execution_count": 2,
   "metadata": {},
   "outputs": [
    {
     "data": {
      "text/plain": [
       "'2.4.0'"
      ]
     },
     "execution_count": 2,
     "metadata": {},
     "output_type": "execute_result"
    }
   ],
   "source": [
    "from tensorflow import keras\n",
    "\n",
    "keras.__version__"
   ]
  },
  {
   "cell_type": "code",
   "execution_count": 3,
   "metadata": {},
   "outputs": [
    {
     "data": {
      "text/plain": [
       "<tensorflow.python.keras.layers.core.Dense at 0x7ff43962cee0>"
      ]
     },
     "execution_count": 3,
     "metadata": {},
     "output_type": "execute_result"
    }
   ],
   "source": [
    "# 코드가 다소 길어짐\n",
    "keras.layers.Dense(10, activation='sigmoid')"
   ]
  },
  {
   "cell_type": "code",
   "execution_count": 4,
   "metadata": {},
   "outputs": [
    {
     "data": {
      "text/plain": [
       "<tensorflow.python.keras.engine.training.Model at 0x7ff44863dca0>"
      ]
     },
     "execution_count": 4,
     "metadata": {},
     "output_type": "execute_result"
    }
   ],
   "source": [
    "keras.Model()"
   ]
  },
  {
   "cell_type": "code",
   "execution_count": 5,
   "metadata": {},
   "outputs": [
    {
     "data": {
      "text/plain": [
       "<tensorflow.python.keras.engine.sequential.Sequential at 0x7ff4690fd1c0>"
      ]
     },
     "execution_count": 5,
     "metadata": {},
     "output_type": "execute_result"
    }
   ],
   "source": [
    "keras.models.Sequential()"
   ]
  },
  {
   "cell_type": "markdown",
   "metadata": {},
   "source": [
    "레이어들을 import 하는 방식(2)\n",
    "* 일일이 import 해야함.\n",
    "* 코드가 간결함"
   ]
  },
  {
   "cell_type": "code",
   "execution_count": 6,
   "metadata": {},
   "outputs": [],
   "source": [
    "# 바로 접근해서 사용이 가능함, 코드가 간결해 짐\n",
    "from tensorflow.keras.layers import Dense, Input, Flatten, Activation\n",
    "from tensorflow.keras.models import Sequential\n",
    "from tensorflow.keras import Model"
   ]
  },
  {
   "cell_type": "code",
   "execution_count": 7,
   "metadata": {},
   "outputs": [
    {
     "data": {
      "text/plain": [
       "<tensorflow.python.keras.layers.core.Dense at 0x7ff4690fd880>"
      ]
     },
     "execution_count": 7,
     "metadata": {},
     "output_type": "execute_result"
    }
   ],
   "source": [
    "Dense(10, activation='relu')"
   ]
  },
  {
   "cell_type": "code",
   "execution_count": 8,
   "metadata": {},
   "outputs": [
    {
     "data": {
      "text/plain": [
       "<tensorflow.python.keras.layers.core.Flatten at 0x7ff428d3a6a0>"
      ]
     },
     "execution_count": 8,
     "metadata": {},
     "output_type": "execute_result"
    }
   ],
   "source": [
    "Flatten(input_shape=(28, 28))"
   ]
  },
  {
   "cell_type": "code",
   "execution_count": 9,
   "metadata": {},
   "outputs": [
    {
     "name": "stdout",
     "output_type": "stream",
     "text": [
      "(5500, 2)\n"
     ]
    },
    {
     "data": {
      "text/plain": [
       "<KerasTensor: shape=(None, 2) dtype=float32 (created by layer 'input_1')>"
      ]
     },
     "execution_count": 9,
     "metadata": {},
     "output_type": "execute_result"
    }
   ],
   "source": [
    "x_train = np.random.randn(5500, 2)\n",
    "print(x_train.shape)\n",
    "Input(shape=x_train.shape[1:])"
   ]
  },
  {
   "cell_type": "markdown",
   "metadata": {},
   "source": [
    "## 주요 레이어 \n",
    "### Dense \n",
    "\n",
    "    * Fully_Connected Layer  \n",
    "    * 노드수(유닛수), 활성화 함수 등을 지정  \n",
    "    * name 를 통한 레이어간 구분 가능  \n",
    "    * 기본적으로   \n",
    "      'Xavier분포 초기화'=='Glorot_uniform' 가중치 초기화를 사용하고, zeros bias로 초기화 함.  \n",
    "       kernal_initializer 인자를 통해 다른 가중치 초기화를 진행할 수 있음.   "
   ]
  },
  {
   "cell_type": "code",
   "execution_count": 10,
   "metadata": {},
   "outputs": [],
   "source": [
    "dense = Dense(10, activation='relu', name='Dense Layer')"
   ]
  },
  {
   "cell_type": "code",
   "execution_count": 11,
   "metadata": {},
   "outputs": [
    {
     "data": {
      "text/plain": [
       "<tensorflow.python.keras.layers.core.Dense at 0x7ff46911c8e0>"
      ]
     },
     "execution_count": 11,
     "metadata": {},
     "output_type": "execute_result"
    }
   ],
   "source": [
    "dense"
   ]
  },
  {
   "cell_type": "code",
   "execution_count": 12,
   "metadata": {},
   "outputs": [],
   "source": [
    "dense2 = Dense(15, activation='softmax')"
   ]
  },
  {
   "cell_type": "code",
   "execution_count": 13,
   "metadata": {},
   "outputs": [
    {
     "data": {
      "text/plain": [
       "<tensorflow.python.keras.layers.core.Dense at 0x7ff4690fdfa0>"
      ]
     },
     "execution_count": 13,
     "metadata": {},
     "output_type": "execute_result"
    }
   ],
   "source": [
    "dense2"
   ]
  },
  {
   "cell_type": "markdown",
   "metadata": {},
   "source": [
    "### Activation\n",
    "    * Dense layer 에서 활성화 함수를 지정할 수도 있지만, 때에 따라서 따로 레이어를 만들어줄 수 있음\n",
    "    * activation 만 동작하는 layer가 됨."
   ]
  },
  {
   "cell_type": "code",
   "execution_count": 14,
   "metadata": {},
   "outputs": [],
   "source": [
    "# 아래 방식으로 activation 레이어를 거치는 방식으로도 가능\n",
    "dense = Dense(10, kernel_initializer='he_normal', name='Dense Layer')\n",
    "dense = Activation(dense)"
   ]
  },
  {
   "cell_type": "markdown",
   "metadata": {},
   "source": [
    "### Flatten \n",
    "    * 배치 크기(또는 데이터 크기)를 제외하고 데이터를 1차원으로 쭉 펼치는 작업\n",
    "    \n",
    "   > 예시)  \n",
    "   (128, 3, 2, 2) --> (128, 12))"
   ]
  },
  {
   "cell_type": "code",
   "execution_count": 15,
   "metadata": {},
   "outputs": [
    {
     "data": {
      "text/plain": [
       "<tensorflow.python.keras.layers.core.Flatten at 0x7ff418b47880>"
      ]
     },
     "execution_count": 15,
     "metadata": {},
     "output_type": "execute_result"
    }
   ],
   "source": [
    "Flatten(input_shape=(28, 28))"
   ]
  },
  {
   "cell_type": "markdown",
   "metadata": {},
   "source": [
    "### Input \n",
    "    * 모델에서 입력을 정의\n",
    "    * shape, dtype을 포함\n",
    "    * 하나의 모델은 여러개의 입력을 가질 수 있음 \n",
    "    * summary() 메소드를 통해서는 보이지 않음 "
   ]
  },
  {
   "cell_type": "code",
   "execution_count": 16,
   "metadata": {},
   "outputs": [
    {
     "data": {
      "text/plain": [
       "(<KerasTensor: shape=(None, 28, 28) dtype=float32 (created by layer 'input_2')>,\n",
       " <KerasTensor: shape=(None, 8) dtype=int32 (created by layer 'input_3')>)"
      ]
     },
     "execution_count": 16,
     "metadata": {},
     "output_type": "execute_result"
    }
   ],
   "source": [
    "input_1 = Input(shape=(28, 28), dtype=tf.float32)\n",
    "input_2 = Input(shape=(8, ), dtype=tf.int32)\n",
    "input_1, input_2"
   ]
  },
  {
   "cell_type": "markdown",
   "metadata": {},
   "source": [
    "## 모델 구성 방법\n",
    "* `Sequential()`  \n",
    "* 서브클래싱(Subclassing)\n",
    "* 함수형 API"
   ]
  },
  {
   "cell_type": "markdown",
   "metadata": {},
   "source": [
    "### Sequential()\n",
    "\n",
    "* 모델이 순차적으로 진행할 때 사용\n",
    "* Sequential 객체 생성 후, add 를 통한 방법\n",
    "* Sequential 인자에 한번에 추가\n",
    "* 다중 입력 및 출력이 존재하는 등의 복잡한 모델을 구성할 수 없음"
   ]
  },
  {
   "cell_type": "code",
   "execution_count": 17,
   "metadata": {},
   "outputs": [],
   "source": [
    "from tensorflow.keras.layers import Dense, Input, Flatten\n",
    "from tensorflow.keras.models import Sequential, Model\n",
    "# 모델 시각화 가능\n",
    "from tensorflow.keras.utils import plot_model"
   ]
  },
  {
   "cell_type": "code",
   "execution_count": 18,
   "metadata": {},
   "outputs": [],
   "source": [
    "model = Sequential()\n",
    "model.add(Input(shape=(28, 28)))\n",
    "model.add(Dense(300, activation='relu'))\n",
    "model.add(Dense(100, activation='relu'))\n",
    "model.add(Dense(10, activation='softmax'))"
   ]
  },
  {
   "cell_type": "markdown",
   "metadata": {},
   "source": [
    "모델 구조 확인\n",
    "\n",
    "* model 객체의 summary() 이용"
   ]
  },
  {
   "cell_type": "code",
   "execution_count": 19,
   "metadata": {},
   "outputs": [
    {
     "name": "stdout",
     "output_type": "stream",
     "text": [
      "Model: \"sequential_1\"\n",
      "_________________________________________________________________\n",
      "Layer (type)                 Output Shape              Param #   \n",
      "=================================================================\n",
      "dense_3 (Dense)              (None, 28, 300)           8700      \n",
      "_________________________________________________________________\n",
      "dense_4 (Dense)              (None, 28, 100)           30100     \n",
      "_________________________________________________________________\n",
      "dense_5 (Dense)              (None, 28, 10)            1010      \n",
      "=================================================================\n",
      "Total params: 39,810\n",
      "Trainable params: 39,810\n",
      "Non-trainable params: 0\n",
      "_________________________________________________________________\n"
     ]
    }
   ],
   "source": [
    "model.summary()"
   ]
  },
  {
   "cell_type": "code",
   "execution_count": 20,
   "metadata": {},
   "outputs": [
    {
     "data": {
      "image/png": "[encoded data removed]",
      "text/plain": [
       "<IPython.core.display.Image object>"
      ]
     },
     "execution_count": 20,
     "metadata": {},
     "output_type": "execute_result"
    }
   ],
   "source": [
    "# 모델 저장도 가능 to_file\n",
    "plot_model(model, to_file='model_img/model1.png')"
   ]
  },
  {
   "cell_type": "code",
   "execution_count": 21,
   "metadata": {},
   "outputs": [],
   "source": [
    "# 인자에 한번에 추가도 가능함\n",
    "model = Sequential([\n",
    "    Input(shape=(28, 28), name='Input'), \n",
    "    Dense(300, activation='relu', name='Dense1'),\n",
    "    Dense(100, activation='relu', name='Dense2'),\n",
    "    Dense(10, activation='softmax', name='Output'),\n",
    "])"
   ]
  },
  {
   "cell_type": "code",
   "execution_count": 22,
   "metadata": {},
   "outputs": [
    {
     "name": "stdout",
     "output_type": "stream",
     "text": [
      "Model: \"sequential_2\"\n",
      "_________________________________________________________________\n",
      "Layer (type)                 Output Shape              Param #   \n",
      "=================================================================\n",
      "Dense1 (Dense)               (None, 28, 300)           8700      \n",
      "_________________________________________________________________\n",
      "Dense2 (Dense)               (None, 28, 100)           30100     \n",
      "_________________________________________________________________\n",
      "Output (Dense)               (None, 28, 10)            1010      \n",
      "=================================================================\n",
      "Total params: 39,810\n",
      "Trainable params: 39,810\n",
      "Non-trainable params: 0\n",
      "_________________________________________________________________\n"
     ]
    }
   ],
   "source": [
    "model.summary()"
   ]
  },
  {
   "cell_type": "code",
   "execution_count": 23,
   "metadata": {},
   "outputs": [
    {
     "data": {
      "image/png": "[encoded data removed]",
      "text/plain": [
       "<IPython.core.display.Image object>"
      ]
     },
     "execution_count": 23,
     "metadata": {},
     "output_type": "execute_result"
    }
   ],
   "source": [
    "# 모델 저장도 가능 to_file\n",
    "plot_model(model, to_file='model_img/model2.png')"
   ]
  },
  {
   "cell_type": "markdown",
   "metadata": {},
   "source": [
    "### 함수형 API()\n",
    "\n",
    "* 가장 권장되는 방법\n",
    "* 모델을 복잡하고, 유연하게 구성이 가능\n",
    "* 다중 입출력을 다룰 수 있음"
   ]
  },
  {
   "cell_type": "code",
   "execution_count": 24,
   "metadata": {},
   "outputs": [],
   "source": [
    "from tensorflow.keras.models import Model\n",
    "from tensorflow.keras.layers import Input, Flatten, Dense\n",
    "from tensorflow.keras.utils import plot_model"
   ]
  },
  {
   "cell_type": "code",
   "execution_count": 25,
   "metadata": {},
   "outputs": [],
   "source": [
    "inputs = Input(shape=(28, 28, 1))\n",
    "\n",
    "x = Flatten(input_shape=(28, 28, 1))(inputs)\n",
    "x = Dense(300, activation='relu')(x)\n",
    "x = Dense(100, activation='relu')(x)\n",
    "x = Dense(10, activation='softmax')(x)"
   ]
  },
  {
   "cell_type": "code",
   "execution_count": 26,
   "metadata": {},
   "outputs": [],
   "source": [
    "# inputs = 입력 레이어, outputs = 마지막 출력 레이어\n",
    "model = Model(inputs=inputs, outputs=x)"
   ]
  },
  {
   "cell_type": "code",
   "execution_count": 27,
   "metadata": {
    "scrolled": true
   },
   "outputs": [
    {
     "name": "stdout",
     "output_type": "stream",
     "text": [
      "Model: \"model_1\"\n",
      "_________________________________________________________________\n",
      "Layer (type)                 Output Shape              Param #   \n",
      "=================================================================\n",
      "input_5 (InputLayer)         [(None, 28, 28, 1)]       0         \n",
      "_________________________________________________________________\n",
      "flatten_2 (Flatten)          (None, 784)               0         \n",
      "_________________________________________________________________\n",
      "dense_6 (Dense)              (None, 300)               235500    \n",
      "_________________________________________________________________\n",
      "dense_7 (Dense)              (None, 100)               30100     \n",
      "_________________________________________________________________\n",
      "dense_8 (Dense)              (None, 10)                1010      \n",
      "=================================================================\n",
      "Total params: 266,610\n",
      "Trainable params: 266,610\n",
      "Non-trainable params: 0\n",
      "_________________________________________________________________\n"
     ]
    }
   ],
   "source": [
    "model.summary()"
   ]
  },
  {
   "cell_type": "code",
   "execution_count": 28,
   "metadata": {},
   "outputs": [
    {
     "data": {
      "image/png": "[encoded data removed]",
      "text/plain": [
       "<IPython.core.display.Image object>"
      ]
     },
     "execution_count": 28,
     "metadata": {},
     "output_type": "execute_result"
    }
   ],
   "source": [
    "plot_model(model, to_file='model_img/model3.png')"
   ]
  },
  {
   "cell_type": "code",
   "execution_count": 29,
   "metadata": {},
   "outputs": [],
   "source": [
    "from tensorflow.keras.layers import Concatenate\n",
    "\n",
    "input_1 = Input(shape=(28, 28))\n",
    "hidden1 = Dense(100, activation='relu')(input_1)\n",
    "hidden2 = Dense(30, activation='relu')(hidden1)\n",
    "concat = Concatenate()([input_1, hidden2])\n",
    "output = Dense(1)(concat)\n",
    "\n",
    "model = Model(inputs=input_1, outputs=output)"
   ]
  },
  {
   "cell_type": "code",
   "execution_count": 30,
   "metadata": {},
   "outputs": [
    {
     "name": "stdout",
     "output_type": "stream",
     "text": [
      "Model: \"model_2\"\n",
      "__________________________________________________________________________________________________\n",
      "Layer (type)                    Output Shape         Param #     Connected to                     \n",
      "==================================================================================================\n",
      "input_6 (InputLayer)            [(None, 28, 28)]     0                                            \n",
      "__________________________________________________________________________________________________\n",
      "dense_9 (Dense)                 (None, 28, 100)      2900        input_6[0][0]                    \n",
      "__________________________________________________________________________________________________\n",
      "dense_10 (Dense)                (None, 28, 30)       3030        dense_9[0][0]                    \n",
      "__________________________________________________________________________________________________\n",
      "concatenate (Concatenate)       (None, 28, 58)       0           input_6[0][0]                    \n",
      "                                                                 dense_10[0][0]                   \n",
      "__________________________________________________________________________________________________\n",
      "dense_11 (Dense)                (None, 28, 1)        59          concatenate[0][0]                \n",
      "==================================================================================================\n",
      "Total params: 5,989\n",
      "Trainable params: 5,989\n",
      "Non-trainable params: 0\n",
      "__________________________________________________________________________________________________\n"
     ]
    }
   ],
   "source": [
    "model.summary()"
   ]
  },
  {
   "cell_type": "code",
   "execution_count": 31,
   "metadata": {},
   "outputs": [
    {
     "data": {
      "image/png": "[encoded data removed]",
      "text/plain": [
       "<IPython.core.display.Image object>"
      ]
     },
     "execution_count": 31,
     "metadata": {},
     "output_type": "execute_result"
    }
   ],
   "source": [
    "plot_model(model, to_file='model_img/model_concat.png')"
   ]
  },
  {
   "cell_type": "code",
   "execution_count": 32,
   "metadata": {},
   "outputs": [],
   "source": [
    "# 다중 입력 레이어 \n",
    "input_1 = Input(shape=(10, 10), name='input_1')\n",
    "input_2 = Input(shape=(10, 28), name='input_2')\n",
    "\n",
    "hidden1 = Dense(100, activation='relu')(input_2)\n",
    "hidden2 = Dense(10, activation='relu')(hidden1)\n",
    "\n",
    "# concat 하려는 shape 이 맞아야 함.\n",
    "concat = Concatenate()([input_1, hidden2])\n",
    "output = Dense(1, activation='sigmoid', name='output')(concat)\n",
    "\n",
    "model = Model(inputs=[input_1, input_2], outputs=output)"
   ]
  },
  {
   "cell_type": "code",
   "execution_count": 33,
   "metadata": {},
   "outputs": [
    {
     "name": "stdout",
     "output_type": "stream",
     "text": [
      "Model: \"model_3\"\n",
      "__________________________________________________________________________________________________\n",
      "Layer (type)                    Output Shape         Param #     Connected to                     \n",
      "==================================================================================================\n",
      "input_2 (InputLayer)            [(None, 10, 28)]     0                                            \n",
      "__________________________________________________________________________________________________\n",
      "dense_12 (Dense)                (None, 10, 100)      2900        input_2[0][0]                    \n",
      "__________________________________________________________________________________________________\n",
      "input_1 (InputLayer)            [(None, 10, 10)]     0                                            \n",
      "__________________________________________________________________________________________________\n",
      "dense_13 (Dense)                (None, 10, 10)       1010        dense_12[0][0]                   \n",
      "__________________________________________________________________________________________________\n",
      "concatenate_1 (Concatenate)     (None, 10, 20)       0           input_1[0][0]                    \n",
      "                                                                 dense_13[0][0]                   \n",
      "__________________________________________________________________________________________________\n",
      "output (Dense)                  (None, 10, 1)        21          concatenate_1[0][0]              \n",
      "==================================================================================================\n",
      "Total params: 3,931\n",
      "Trainable params: 3,931\n",
      "Non-trainable params: 0\n",
      "__________________________________________________________________________________________________\n"
     ]
    }
   ],
   "source": [
    "model.summary()"
   ]
  },
  {
   "cell_type": "code",
   "execution_count": 34,
   "metadata": {},
   "outputs": [
    {
     "data": {
      "image/png": "[encoded data removed]",
      "text/plain": [
       "<IPython.core.display.Image object>"
      ]
     },
     "execution_count": 34,
     "metadata": {},
     "output_type": "execute_result"
    }
   ],
   "source": [
    "plot_model(model, to_file='model_img/model_multilayer.png')"
   ]
  },
  {
   "cell_type": "code",
   "execution_count": 35,
   "metadata": {},
   "outputs": [],
   "source": [
    "# 다중 출력\n",
    "input_ = Input(shape=(10, 10), name='input_')\n",
    "\n",
    "hidden1 = Dense(100, activation='relu')(input_)\n",
    "hidden2 = Dense(10, activation='relu')(hidden1)\n",
    "\n",
    "output = Dense(1, activation='sigmoid', name='main_output')(hidden2)\n",
    "sub_out = Dense(1, name='sum_output')(hidden2)\n",
    "\n",
    "model = Model(inputs = [input_], outputs=[output, sub_out])"
   ]
  },
  {
   "cell_type": "code",
   "execution_count": 36,
   "metadata": {},
   "outputs": [
    {
     "name": "stdout",
     "output_type": "stream",
     "text": [
      "Model: \"model_4\"\n",
      "__________________________________________________________________________________________________\n",
      "Layer (type)                    Output Shape         Param #     Connected to                     \n",
      "==================================================================================================\n",
      "input_ (InputLayer)             [(None, 10, 10)]     0                                            \n",
      "__________________________________________________________________________________________________\n",
      "dense_14 (Dense)                (None, 10, 100)      1100        input_[0][0]                     \n",
      "__________________________________________________________________________________________________\n",
      "dense_15 (Dense)                (None, 10, 10)       1010        dense_14[0][0]                   \n",
      "__________________________________________________________________________________________________\n",
      "main_output (Dense)             (None, 10, 1)        11          dense_15[0][0]                   \n",
      "__________________________________________________________________________________________________\n",
      "sum_output (Dense)              (None, 10, 1)        11          dense_15[0][0]                   \n",
      "==================================================================================================\n",
      "Total params: 2,132\n",
      "Trainable params: 2,132\n",
      "Non-trainable params: 0\n",
      "__________________________________________________________________________________________________\n"
     ]
    }
   ],
   "source": [
    "model.summary()"
   ]
  },
  {
   "cell_type": "code",
   "execution_count": 37,
   "metadata": {},
   "outputs": [
    {
     "data": {
      "image/png": "[encoded data removed]",
      "text/plain": [
       "<IPython.core.display.Image object>"
      ]
     },
     "execution_count": 37,
     "metadata": {},
     "output_type": "execute_result"
    }
   ],
   "source": [
    "plot_model(model, to_file='model_img/model_multiout.png')"
   ]
  },
  {
   "cell_type": "code",
   "execution_count": 38,
   "metadata": {},
   "outputs": [],
   "source": [
    "# 다중입력, 다중출력\n",
    "input_1 = Input(shape=(10, 10), name='input_1')\n",
    "input_2 = Input(shape=(10, 28), name='input_2')\n",
    "\n",
    "hidden1 = Dense(100, activation='relu')(input_2)\n",
    "hidden2 = Dense(10, activation='relu')(hidden1)\n",
    "\n",
    "concat = Concatenate()([input_1, hidden2])\n",
    "\n",
    "output = Dense(1, activation='sigmoid', name='main_ouput')(concat)\n",
    "sub_out = Dense(1, name='sub_ouput')(hidden2)\n",
    "\n",
    "model = Model(inputs=[input_1, input_2], outputs=[output, sub_out])"
   ]
  },
  {
   "cell_type": "code",
   "execution_count": 39,
   "metadata": {},
   "outputs": [
    {
     "name": "stdout",
     "output_type": "stream",
     "text": [
      "Model: \"model_5\"\n",
      "__________________________________________________________________________________________________\n",
      "Layer (type)                    Output Shape         Param #     Connected to                     \n",
      "==================================================================================================\n",
      "input_2 (InputLayer)            [(None, 10, 28)]     0                                            \n",
      "__________________________________________________________________________________________________\n",
      "dense_16 (Dense)                (None, 10, 100)      2900        input_2[0][0]                    \n",
      "__________________________________________________________________________________________________\n",
      "input_1 (InputLayer)            [(None, 10, 10)]     0                                            \n",
      "__________________________________________________________________________________________________\n",
      "dense_17 (Dense)                (None, 10, 10)       1010        dense_16[0][0]                   \n",
      "__________________________________________________________________________________________________\n",
      "concatenate_2 (Concatenate)     (None, 10, 20)       0           input_1[0][0]                    \n",
      "                                                                 dense_17[0][0]                   \n",
      "__________________________________________________________________________________________________\n",
      "main_ouput (Dense)              (None, 10, 1)        21          concatenate_2[0][0]              \n",
      "__________________________________________________________________________________________________\n",
      "sub_ouput (Dense)               (None, 10, 1)        11          dense_17[0][0]                   \n",
      "==================================================================================================\n",
      "Total params: 3,942\n",
      "Trainable params: 3,942\n",
      "Non-trainable params: 0\n",
      "__________________________________________________________________________________________________\n"
     ]
    }
   ],
   "source": [
    "model.summary()"
   ]
  },
  {
   "cell_type": "code",
   "execution_count": 40,
   "metadata": {
    "scrolled": true
   },
   "outputs": [
    {
     "data": {
      "image/png": "[encoded data removed]",
      "text/plain": [
       "<IPython.core.display.Image object>"
      ]
     },
     "execution_count": 40,
     "metadata": {},
     "output_type": "execute_result"
    }
   ],
   "source": [
    "plot_model(model, to_file='model_img/model_multi_in_output.png')"
   ]
  },
  {
   "cell_type": "markdown",
   "metadata": {},
   "source": [
    "### 서브클래싱 (Subclassing)\n",
    "\n",
    "* 커스터마이징에 최적화된 방법  \n",
    "* Model 클래스를 상속받아 Model이 포함하는 기능을 사용할 수 있음  \n",
    "`fit()`, `evalute()`, `predict()`, `save()`, `load()`\n",
    "* 주로 `call()` 메소드 안에서 원하는 계산 가능  \n",
    "`for`, `if`, 저수준 연산 등  \n",
    "* 권장되는 방법은 아니지만, 어떤 모델의 구현 코드를 참고할 때 해석할 수 있어야 함."
   ]
  },
  {
   "cell_type": "code",
   "execution_count": 41,
   "metadata": {},
   "outputs": [],
   "source": [
    "from tensorflow.keras.models import Model\n",
    "from tensorflow.keras.layers import Input, Flatten, Dense\n",
    "from tensorflow.keras.utils import plot_model"
   ]
  },
  {
   "cell_type": "code",
   "execution_count": 42,
   "metadata": {},
   "outputs": [],
   "source": [
    "class Mymodel(Model):\n",
    "    def __init__(self, units=30, activation='relu', **kwargs):\n",
    "        super(Mymodel, self).__init__(*kwargs)\n",
    "        \n",
    "        self.dense_layer1 = Dense(300, activation=activation)\n",
    "        self.dense_layer2 = Dense(100, activation=activation)\n",
    "        self.dense_layer3 = Dense(units, activation=activation)\n",
    "        \n",
    "        self.output_layer = Dense(10, activation='softmax')\n",
    "\n",
    "    def call(self, inputs):\n",
    "        x = self.dense_layer1(inputs)\n",
    "        x = self.dense_layer2n(x)\n",
    "        x = self.dense_layer3n(x)\n",
    "        x = self.output_layer(x)\n",
    "        return x "
   ]
  },
  {
   "cell_type": "markdown",
   "metadata": {},
   "source": [
    "## 모델 가중치 확인"
   ]
  },
  {
   "cell_type": "code",
   "execution_count": 43,
   "metadata": {},
   "outputs": [],
   "source": [
    "from tensorflow.keras.models import Model\n",
    "from tensorflow.keras.layers import Input, Flatten, Dense\n",
    "from tensorflow.keras.utils import plot_model"
   ]
  },
  {
   "cell_type": "code",
   "execution_count": 44,
   "metadata": {},
   "outputs": [],
   "source": [
    "inputs = Input(shape=(28,28,1))\n",
    "\n",
    "x = Flatten(input_shape=(28,28,1))(inputs)\n",
    "x = Dense(300, activation='relu')(x)\n",
    "x = Dense(100, activation='relu')(x)\n",
    "x = Dense(10, activation='softmax')(x)\n",
    "\n",
    "model = Model(inputs=inputs, outputs=x)"
   ]
  },
  {
   "cell_type": "code",
   "execution_count": 45,
   "metadata": {},
   "outputs": [
    {
     "name": "stdout",
     "output_type": "stream",
     "text": [
      "Model: \"model_6\"\n",
      "_________________________________________________________________\n",
      "Layer (type)                 Output Shape              Param #   \n",
      "=================================================================\n",
      "input_7 (InputLayer)         [(None, 28, 28, 1)]       0         \n",
      "_________________________________________________________________\n",
      "flatten_3 (Flatten)          (None, 784)               0         \n",
      "_________________________________________________________________\n",
      "dense_18 (Dense)             (None, 300)               235500    \n",
      "_________________________________________________________________\n",
      "dense_19 (Dense)             (None, 100)               30100     \n",
      "_________________________________________________________________\n",
      "dense_20 (Dense)             (None, 10)                1010      \n",
      "=================================================================\n",
      "Total params: 266,610\n",
      "Trainable params: 266,610\n",
      "Non-trainable params: 0\n",
      "_________________________________________________________________\n"
     ]
    }
   ],
   "source": [
    "model.summary()"
   ]
  },
  {
   "cell_type": "markdown",
   "metadata": {},
   "source": [
    "모델의 레이어들이 리스트로 표현됨"
   ]
  },
  {
   "cell_type": "code",
   "execution_count": 46,
   "metadata": {},
   "outputs": [
    {
     "data": {
      "text/plain": [
       "[<tensorflow.python.keras.engine.input_layer.InputLayer at 0x7ff4692840d0>,\n",
       " <tensorflow.python.keras.layers.core.Flatten at 0x7ff469284040>,\n",
       " <tensorflow.python.keras.layers.core.Dense at 0x7ff469284550>,\n",
       " <tensorflow.python.keras.layers.core.Dense at 0x7ff4692848b0>,\n",
       " <tensorflow.python.keras.layers.core.Dense at 0x7ff469284850>]"
      ]
     },
     "execution_count": 46,
     "metadata": {},
     "output_type": "execute_result"
    }
   ],
   "source": [
    "model.layers"
   ]
  },
  {
   "cell_type": "code",
   "execution_count": 47,
   "metadata": {},
   "outputs": [
    {
     "data": {
      "text/plain": [
       "'dense_18'"
      ]
     },
     "execution_count": 47,
     "metadata": {},
     "output_type": "execute_result"
    }
   ],
   "source": [
    "hidden2 = model.layers[2]\n",
    "hidden2.name"
   ]
  },
  {
   "cell_type": "markdown",
   "metadata": {},
   "source": [
    "위의 layer name 참고"
   ]
  },
  {
   "cell_type": "code",
   "execution_count": 48,
   "metadata": {},
   "outputs": [
    {
     "data": {
      "text/plain": [
       "True"
      ]
     },
     "execution_count": 48,
     "metadata": {},
     "output_type": "execute_result"
    }
   ],
   "source": [
    "# dense_18 라는 이름을 가진 레이어와 hidden2가 같은지\n",
    "model.get_layer('dense_18') is hidden2"
   ]
  },
  {
   "cell_type": "code",
   "execution_count": 49,
   "metadata": {},
   "outputs": [],
   "source": [
    "weights, biases = hidden2.get_weights()"
   ]
  },
  {
   "cell_type": "code",
   "execution_count": 50,
   "metadata": {},
   "outputs": [
    {
     "data": {
      "text/plain": [
       "array([[ 0.00128818,  0.04220255, -0.0737092 , ...,  0.02364736,\n",
       "         0.02760752,  0.06692368],\n",
       "       [ 0.0192742 ,  0.06921534, -0.04934756, ..., -0.00476851,\n",
       "         0.00236103, -0.06896447],\n",
       "       [ 0.07109858, -0.07416146,  0.03175125, ...,  0.05612506,\n",
       "        -0.05816189, -0.01872965],\n",
       "       ...,\n",
       "       [-0.05411113, -0.00453296,  0.02108956, ..., -0.04669863,\n",
       "         0.05998643, -0.02560397],\n",
       "       [-0.05184271,  0.02186989,  0.01396842, ...,  0.01623665,\n",
       "         0.02300428,  0.0424568 ],\n",
       "       [ 0.02095708,  0.01767013, -0.03990604, ...,  0.04427113,\n",
       "        -0.04968318,  0.03109742]], dtype=float32)"
      ]
     },
     "execution_count": 50,
     "metadata": {},
     "output_type": "execute_result"
    }
   ],
   "source": [
    "weights"
   ]
  },
  {
   "cell_type": "code",
   "execution_count": 51,
   "metadata": {},
   "outputs": [
    {
     "data": {
      "text/plain": [
       "array([0., 0., 0., 0., 0., 0., 0., 0., 0., 0., 0., 0., 0., 0., 0., 0., 0.,\n",
       "       0., 0., 0., 0., 0., 0., 0., 0., 0., 0., 0., 0., 0., 0., 0., 0., 0.,\n",
       "       0., 0., 0., 0., 0., 0., 0., 0., 0., 0., 0., 0., 0., 0., 0., 0., 0.,\n",
       "       0., 0., 0., 0., 0., 0., 0., 0., 0., 0., 0., 0., 0., 0., 0., 0., 0.,\n",
       "       0., 0., 0., 0., 0., 0., 0., 0., 0., 0., 0., 0., 0., 0., 0., 0., 0.,\n",
       "       0., 0., 0., 0., 0., 0., 0., 0., 0., 0., 0., 0., 0., 0., 0., 0., 0.,\n",
       "       0., 0., 0., 0., 0., 0., 0., 0., 0., 0., 0., 0., 0., 0., 0., 0., 0.,\n",
       "       0., 0., 0., 0., 0., 0., 0., 0., 0., 0., 0., 0., 0., 0., 0., 0., 0.,\n",
       "       0., 0., 0., 0., 0., 0., 0., 0., 0., 0., 0., 0., 0., 0., 0., 0., 0.,\n",
       "       0., 0., 0., 0., 0., 0., 0., 0., 0., 0., 0., 0., 0., 0., 0., 0., 0.,\n",
       "       0., 0., 0., 0., 0., 0., 0., 0., 0., 0., 0., 0., 0., 0., 0., 0., 0.,\n",
       "       0., 0., 0., 0., 0., 0., 0., 0., 0., 0., 0., 0., 0., 0., 0., 0., 0.,\n",
       "       0., 0., 0., 0., 0., 0., 0., 0., 0., 0., 0., 0., 0., 0., 0., 0., 0.,\n",
       "       0., 0., 0., 0., 0., 0., 0., 0., 0., 0., 0., 0., 0., 0., 0., 0., 0.,\n",
       "       0., 0., 0., 0., 0., 0., 0., 0., 0., 0., 0., 0., 0., 0., 0., 0., 0.,\n",
       "       0., 0., 0., 0., 0., 0., 0., 0., 0., 0., 0., 0., 0., 0., 0., 0., 0.,\n",
       "       0., 0., 0., 0., 0., 0., 0., 0., 0., 0., 0., 0., 0., 0., 0., 0., 0.,\n",
       "       0., 0., 0., 0., 0., 0., 0., 0., 0., 0., 0.], dtype=float32)"
      ]
     },
     "execution_count": 51,
     "metadata": {},
     "output_type": "execute_result"
    }
   ],
   "source": [
    "biases"
   ]
  },
  {
   "cell_type": "code",
   "execution_count": 52,
   "metadata": {},
   "outputs": [
    {
     "name": "stdout",
     "output_type": "stream",
     "text": [
      "(784, 300)\n",
      "(300,)\n"
     ]
    }
   ],
   "source": [
    "print(weights.shape)\n",
    "print(biases.shape)"
   ]
  },
  {
   "cell_type": "markdown",
   "metadata": {},
   "source": [
    "## 모델 컴파일(compile)\n",
    "* 모델을 구성한 후, 사용할 손실함수(loss), 옵티마이져(optimizer)를 지정이 가능함"
   ]
  },
  {
   "cell_type": "code",
   "execution_count": 53,
   "metadata": {},
   "outputs": [],
   "source": [
    "model.compile(optimizer='sgd', loss='sparse_categorical_crossentropy', metrics=['accuracy'])"
   ]
  },
  {
   "cell_type": "markdown",
   "metadata": {},
   "source": [
    "### 참고\n",
    "#### loss\n",
    "* `keras.losses.sparse_categorical_crossentropy` 등과 같이 지정가능  \n",
    "    * `sparse_categorical_crossentropy` : 클래스가 배타적, (0,1,2,3,4,5)와 같은 방식으로 구분되어 있을 때 사용  \n",
    "    * `categorical_cross_entropy` : 클래스가 원-핫 인코딩 방식으로 되어 있을때 사용  \n",
    "    * `binary_crossentropy` : 이진 분류를 수행할 때 사용\n",
    "\n",
    "### optimizer\n",
    "* `keras.optimizer.SGD()` 등과 같이 사용 가능\n",
    "    * 보통 옵티마이저의 **튜닝을 위해 따로 객체를 생성**하여 컴파일\n",
    "    \n",
    "    ```python\n",
    "optimizer = keras.optimizer.SGD(learning_rate=1e-5)\n",
    "model.compile(...,\n",
    "              optimizer=optimizer,\n",
    "              ...)\n",
    "    ```\n",
    "* `kerar.optimizer.Adam() 도 많이 사용\n",
    "\n",
    "### metrics\n",
    "* 모티너링할 지표\n",
    "* 주로 'accuracy', 'acc'로 도 가능"
   ]
  },
  {
   "cell_type": "markdown",
   "metadata": {},
   "source": [
    "### 참고2 - 컴파일 설정 예시\n",
    "* 평균 제곱 오차, 회귀 문제 \n",
    "    ```python\n",
    "    model.compile(loss='mse,\n",
    "                  optimizer=RMSprop(),\n",
    "                  metrics=['mse'])\n",
    "    ```\n",
    "* 이진 분류\n",
    "    ```python\n",
    "    model.compile(loss='binary_crossentropy,\n",
    "                  optimizer=RMSprop(),\n",
    "                  metrics=['accuracy'])\n",
    "    ```\n",
    "* 다항 분류\n",
    "    ```python\n",
    "    model.compile(loss='catrgorical_crossentropy,\n",
    "                  optimizer=RMSprop()\n",
    "                  metrics=['accuracy'])\n",
    "    ```"
   ]
  },
  {
   "cell_type": "markdown",
   "metadata": {},
   "source": [
    "## 모델 훈련, 평가 및 예측\n",
    "* `fit()` 함수 \n",
    "    * train_data(학습 데이터), train_label(데이터의 정답)\n",
    "    * epochs\n",
    "    * batch_size\n",
    "    * validation_data\n",
    "    * callback\n",
    "    \n",
    "* `evaluate()` 함수 : 테스트 데이터를 넣었을때 평가를 위한 함수\n",
    "    * 테스트 데이터\n",
    "\n",
    "* `predict()` 임의의 데이터를 인자로 넣어 예측 가능"
   ]
  },
  {
   "cell_type": "markdown",
   "metadata": {},
   "source": [
    "## MNIST 예제를 통해 모델 구성하기 \n",
    "* keras.datasets 에 포함되어 있는 데이터 셋"
   ]
  },
  {
   "cell_type": "markdown",
   "metadata": {},
   "source": [
    "### modules import"
   ]
  },
  {
   "cell_type": "code",
   "execution_count": 54,
   "metadata": {},
   "outputs": [],
   "source": [
    "import tensorflow as tf\n",
    "from keras.datasets.mnist import load_data\n",
    "from keras.models import Sequential\n",
    "from keras import models\n",
    "from keras.layers import Dense, Input, Flatten\n",
    "from keras.utils import to_categorical\n",
    "from keras.utils import plot_model\n",
    "\n",
    "from sklearn.model_selection import train_test_split\n",
    "import numpy as np\n",
    "import matplotlib.pyplot as plt\n",
    "plt.style.use('seaborn-white')"
   ]
  },
  {
   "cell_type": "markdown",
   "metadata": {},
   "source": [
    "### 데이터 셋 로드\n",
    "* MNIST 데이터셋을 로드\n",
    "* train data 중, 30% 를 검증 데이터(valiation data)로 사용"
   ]
  },
  {
   "cell_type": "code",
   "execution_count": 55,
   "metadata": {},
   "outputs": [],
   "source": [
    "tf.random.set_seed(111)\n",
    "\n",
    "(x_train_full, y_train_full), (x_test, y_test) = load_data(path='mnist.npz')\n",
    "x_train, x_val, y_train, y_val = train_test_split(x_train_full, y_train_full,\n",
    "                                                  test_size=0.3,\n",
    "                                                  random_state=111, shuffle=False)"
   ]
  },
  {
   "cell_type": "code",
   "execution_count": 56,
   "metadata": {},
   "outputs": [
    {
     "name": "stdout",
     "output_type": "stream",
     "text": [
      "3\n"
     ]
    },
    {
     "data": {
      "image/png": "[encoded data removed]",
      "text/plain": [
       "<Figure size 432x288 with 1 Axes>"
      ]
     },
     "metadata": {},
     "output_type": "display_data"
    }
   ],
   "source": [
    "idx = 7\n",
    "print(y_train[idx])\n",
    "plt.imshow(x_train[idx])\n",
    "plt.show()"
   ]
  },
  {
   "cell_type": "markdown",
   "metadata": {},
   "source": [
    "### 데이터 확인"
   ]
  },
  {
   "cell_type": "code",
   "execution_count": 57,
   "metadata": {},
   "outputs": [
    {
     "name": "stdout",
     "output_type": "stream",
     "text": [
      "42000 18000 10000\n"
     ]
    }
   ],
   "source": [
    "num_x_train = (x_train.shape[0])\n",
    "num_x_val = (x_val.shape[0])\n",
    "num_x_test = (x_test.shape[0])\n",
    "print(num_x_train, num_x_val, num_x_test)"
   ]
  },
  {
   "cell_type": "code",
   "execution_count": 58,
   "metadata": {},
   "outputs": [
    {
     "name": "stdout",
     "output_type": "stream",
     "text": [
      "전체 데이터 : (60000, 28, 28)\t레이블 : (60000,)\n",
      "\n",
      "학습 데이터 : (42000, 28, 28)\t레이블 : (42000,)\n",
      "검증 데이터 : (18000, 28, 28)\t레이블 : (18000,)\n",
      "\n",
      "테스트 데이터 : (10000, 28, 28)\t레이블 : (10000,)\n"
     ]
    }
   ],
   "source": [
    "print(\"전체 데이터 : {}\\t레이블 : {}\\n\".format(x_train_full.shape, y_train_full.shape))\n",
    "print(\"학습 데이터 : {}\\t레이블 : {}\".format(x_train.shape, y_train.shape))\n",
    "print(\"검증 데이터 : {}\\t레이블 : {}\\n\".format(x_val.shape, y_val.shape))\n",
    "print(\"테스트 데이터 : {}\\t레이블 : {}\".format(x_test.shape, y_test.shape))"
   ]
  },
  {
   "cell_type": "code",
   "execution_count": 59,
   "metadata": {},
   "outputs": [
    {
     "data": {
      "image/png": "[encoded data removed]",
      "text/plain": [
       "<Figure size 1080x576 with 5 Axes>"
      ]
     },
     "metadata": {},
     "output_type": "display_data"
    }
   ],
   "source": [
    "num_sample = 5\n",
    "random_idx = np.random.randint(60000, size=num_sample)\n",
    "\n",
    "plt.figure(figsize=(15, 8))\n",
    "for i, idx in enumerate(random_idx):\n",
    "    img = x_train_full[idx, :, :]\n",
    "    label = y_train_full[idx]\n",
    "    \n",
    "    plt.subplot(1, len(random_idx), i+1)\n",
    "    plt.imshow(img)\n",
    "    plt.title('Index : {}, Label: {}'.format(idx, label))\n",
    "    plt.show"
   ]
  },
  {
   "cell_type": "markdown",
   "metadata": {},
   "source": [
    "### 데이터 전처리\n",
    "* Normalization  \n",
    "흑잭 이미지 gray_scale의 경우에는 색상이 하나 이면서 0 ~ 255의 값을 가지게 됨. 그런데 이를 255로 나누게 되면 모든 값이 0 ~ 1 사이의 값을 갖게 됨. "
   ]
  },
  {
   "cell_type": "code",
   "execution_count": 60,
   "metadata": {},
   "outputs": [],
   "source": [
    "x_train = x_train / 255.\n",
    "x_val = x_val / 255.\n",
    "x_test = x_test / 255."
   ]
  },
  {
   "cell_type": "code",
   "execution_count": 61,
   "metadata": {},
   "outputs": [],
   "source": [
    "# to_categorical : 원-핫 벡터 형식으로 변환해줌\n",
    "y_train = to_categorical(y_train)\n",
    "y_val = to_categorical(y_val)\n",
    "y_test = to_categorical(y_test)"
   ]
  },
  {
   "cell_type": "markdown",
   "metadata": {},
   "source": [
    "### 모델 구성(Sequential)"
   ]
  },
  {
   "cell_type": "code",
   "execution_count": 62,
   "metadata": {},
   "outputs": [],
   "source": [
    "model_mnist = Sequential([\n",
    "    Input(shape=(28, 28), name='input'), \n",
    "    Flatten(input_shape=[28, 28], name='flatten'), \n",
    "    Dense(100, activation='relu', name='dense1'),\n",
    "    Dense(64, activation='relu', name='dense2'),\n",
    "    Dense(32, activation='relu', name='dense3'),\n",
    "    Dense(10, activation='softmax', name='output')\n",
    "])"
   ]
  },
  {
   "cell_type": "code",
   "execution_count": 63,
   "metadata": {},
   "outputs": [
    {
     "name": "stdout",
     "output_type": "stream",
     "text": [
      "Model: \"sequential_3\"\n",
      "_________________________________________________________________\n",
      "Layer (type)                 Output Shape              Param #   \n",
      "=================================================================\n",
      "flatten (Flatten)            (None, 784)               0         \n",
      "_________________________________________________________________\n",
      "dense1 (Dense)               (None, 100)               78500     \n",
      "_________________________________________________________________\n",
      "dense2 (Dense)               (None, 64)                6464      \n",
      "_________________________________________________________________\n",
      "dense3 (Dense)               (None, 32)                2080      \n",
      "_________________________________________________________________\n",
      "output (Dense)               (None, 10)                330       \n",
      "=================================================================\n",
      "Total params: 87,374\n",
      "Trainable params: 87,374\n",
      "Non-trainable params: 0\n",
      "_________________________________________________________________\n"
     ]
    }
   ],
   "source": [
    "model_mnist.summary()"
   ]
  },
  {
   "cell_type": "code",
   "execution_count": 64,
   "metadata": {},
   "outputs": [
    {
     "data": {
      "image/png": "[encoded data removed]",
      "text/plain": [
       "<IPython.core.display.Image object>"
      ]
     },
     "execution_count": 64,
     "metadata": {},
     "output_type": "execute_result"
    }
   ],
   "source": [
    "# show_shapes 인잣값으로 레이어 마다 shape 확인이 가능\n",
    "plot_model(model_mnist, show_shapes=True, to_file='model_img/model_mnist.png')"
   ]
  },
  {
   "cell_type": "markdown",
   "metadata": {},
   "source": [
    "### 모델 컴파일"
   ]
  },
  {
   "cell_type": "code",
   "execution_count": 65,
   "metadata": {},
   "outputs": [],
   "source": [
    "model_mnist.compile(optimizer='adam',\n",
    "                    loss='categorical_crossentropy',\n",
    "                    metrics=['accuracy'])"
   ]
  },
  {
   "cell_type": "markdown",
   "metadata": {},
   "source": [
    "### 모델 학습\n",
    "* 모델 시각화를 위해 history 라는 변수에 넣어줌"
   ]
  },
  {
   "cell_type": "code",
   "execution_count": 66,
   "metadata": {
    "scrolled": true
   },
   "outputs": [
    {
     "name": "stdout",
     "output_type": "stream",
     "text": [
      "Epoch 1/60\n",
      "329/329 [==============================] - 2s 3ms/step - loss: 0.8085 - accuracy: 0.7638 - val_loss: 0.2016 - val_accuracy: 0.9419\n",
      "Epoch 2/60\n",
      "329/329 [==============================] - 1s 2ms/step - loss: 0.1754 - accuracy: 0.9496 - val_loss: 0.1506 - val_accuracy: 0.9556\n",
      "Epoch 3/60\n",
      "329/329 [==============================] - 1s 2ms/step - loss: 0.1257 - accuracy: 0.9625 - val_loss: 0.1319 - val_accuracy: 0.9619\n",
      "Epoch 4/60\n",
      "329/329 [==============================] - 1s 2ms/step - loss: 0.0848 - accuracy: 0.9740 - val_loss: 0.1171 - val_accuracy: 0.9666\n",
      "Epoch 5/60\n",
      "329/329 [==============================] - 1s 2ms/step - loss: 0.0698 - accuracy: 0.9789 - val_loss: 0.1206 - val_accuracy: 0.9661\n",
      "Epoch 6/60\n",
      "329/329 [==============================] - 1s 2ms/step - loss: 0.0581 - accuracy: 0.9821 - val_loss: 0.1162 - val_accuracy: 0.9654\n",
      "Epoch 7/60\n",
      "329/329 [==============================] - 1s 2ms/step - loss: 0.0475 - accuracy: 0.9857 - val_loss: 0.1114 - val_accuracy: 0.9683\n",
      "Epoch 8/60\n",
      "329/329 [==============================] - 1s 2ms/step - loss: 0.0424 - accuracy: 0.9864 - val_loss: 0.1093 - val_accuracy: 0.9706\n",
      "Epoch 9/60\n",
      "329/329 [==============================] - 1s 2ms/step - loss: 0.0344 - accuracy: 0.9891 - val_loss: 0.1148 - val_accuracy: 0.9697\n",
      "Epoch 10/60\n",
      "329/329 [==============================] - 1s 2ms/step - loss: 0.0232 - accuracy: 0.9924 - val_loss: 0.1206 - val_accuracy: 0.9693\n",
      "Epoch 11/60\n",
      "329/329 [==============================] - 1s 2ms/step - loss: 0.0194 - accuracy: 0.9943 - val_loss: 0.1362 - val_accuracy: 0.9681\n",
      "Epoch 12/60\n",
      "329/329 [==============================] - 1s 2ms/step - loss: 0.0216 - accuracy: 0.9932 - val_loss: 0.1207 - val_accuracy: 0.9703\n",
      "Epoch 13/60\n",
      "329/329 [==============================] - 1s 2ms/step - loss: 0.0140 - accuracy: 0.9958 - val_loss: 0.1288 - val_accuracy: 0.9712\n",
      "Epoch 14/60\n",
      "329/329 [==============================] - 1s 2ms/step - loss: 0.0117 - accuracy: 0.9966 - val_loss: 0.1272 - val_accuracy: 0.9698\n",
      "Epoch 15/60\n",
      "329/329 [==============================] - 1s 2ms/step - loss: 0.0224 - accuracy: 0.9930 - val_loss: 0.1481 - val_accuracy: 0.9664\n",
      "Epoch 16/60\n",
      "329/329 [==============================] - 1s 2ms/step - loss: 0.0176 - accuracy: 0.9944 - val_loss: 0.1461 - val_accuracy: 0.9696\n",
      "Epoch 17/60\n",
      "329/329 [==============================] - 1s 2ms/step - loss: 0.0098 - accuracy: 0.9973 - val_loss: 0.1396 - val_accuracy: 0.9702\n",
      "Epoch 18/60\n",
      "329/329 [==============================] - 1s 2ms/step - loss: 0.0079 - accuracy: 0.9981 - val_loss: 0.1303 - val_accuracy: 0.9729\n",
      "Epoch 19/60\n",
      "329/329 [==============================] - 1s 2ms/step - loss: 0.0034 - accuracy: 0.9993 - val_loss: 0.1656 - val_accuracy: 0.9673\n",
      "Epoch 20/60\n",
      "329/329 [==============================] - 1s 2ms/step - loss: 0.0164 - accuracy: 0.9949 - val_loss: 0.1681 - val_accuracy: 0.9665\n",
      "Epoch 21/60\n",
      "329/329 [==============================] - 1s 2ms/step - loss: 0.0140 - accuracy: 0.9953 - val_loss: 0.1509 - val_accuracy: 0.9712\n",
      "Epoch 22/60\n",
      "329/329 [==============================] - 1s 2ms/step - loss: 0.0063 - accuracy: 0.9981 - val_loss: 0.1435 - val_accuracy: 0.9729\n",
      "Epoch 23/60\n",
      "329/329 [==============================] - 1s 2ms/step - loss: 0.0026 - accuracy: 0.9995 - val_loss: 0.1576 - val_accuracy: 0.9718\n",
      "Epoch 24/60\n",
      "329/329 [==============================] - 1s 2ms/step - loss: 0.0048 - accuracy: 0.9986 - val_loss: 0.1772 - val_accuracy: 0.9672\n",
      "Epoch 25/60\n",
      "329/329 [==============================] - 1s 2ms/step - loss: 0.0132 - accuracy: 0.9952 - val_loss: 0.1543 - val_accuracy: 0.9727\n",
      "Epoch 26/60\n",
      "329/329 [==============================] - 1s 2ms/step - loss: 0.0057 - accuracy: 0.9983 - val_loss: 0.1629 - val_accuracy: 0.9709\n",
      "Epoch 27/60\n",
      "329/329 [==============================] - 1s 2ms/step - loss: 0.0034 - accuracy: 0.9991 - val_loss: 0.1700 - val_accuracy: 0.9707\n",
      "Epoch 28/60\n",
      "329/329 [==============================] - 1s 2ms/step - loss: 0.0120 - accuracy: 0.9965 - val_loss: 0.1647 - val_accuracy: 0.9703\n",
      "Epoch 29/60\n",
      "329/329 [==============================] - 1s 2ms/step - loss: 0.0082 - accuracy: 0.9970 - val_loss: 0.1894 - val_accuracy: 0.9714\n",
      "Epoch 30/60\n",
      "329/329 [==============================] - 1s 2ms/step - loss: 0.0131 - accuracy: 0.9959 - val_loss: 0.1710 - val_accuracy: 0.9705\n",
      "Epoch 31/60\n",
      "329/329 [==============================] - 1s 2ms/step - loss: 0.0076 - accuracy: 0.9971 - val_loss: 0.1669 - val_accuracy: 0.9708\n",
      "Epoch 32/60\n",
      "329/329 [==============================] - 1s 2ms/step - loss: 0.0035 - accuracy: 0.9989 - val_loss: 0.1599 - val_accuracy: 0.9750\n",
      "Epoch 33/60\n",
      "329/329 [==============================] - 1s 2ms/step - loss: 5.4077e-04 - accuracy: 1.0000 - val_loss: 0.1628 - val_accuracy: 0.9746\n",
      "Epoch 34/60\n",
      "329/329 [==============================] - 1s 2ms/step - loss: 3.0592e-04 - accuracy: 1.0000 - val_loss: 0.1582 - val_accuracy: 0.9758\n",
      "Epoch 35/60\n",
      "329/329 [==============================] - 1s 2ms/step - loss: 1.1287e-04 - accuracy: 1.0000 - val_loss: 0.1620 - val_accuracy: 0.9758\n",
      "Epoch 36/60\n",
      "329/329 [==============================] - 1s 2ms/step - loss: 9.2984e-05 - accuracy: 1.0000 - val_loss: 0.1623 - val_accuracy: 0.9759\n",
      "Epoch 37/60\n",
      "329/329 [==============================] - 1s 2ms/step - loss: 7.5138e-05 - accuracy: 1.0000 - val_loss: 0.1650 - val_accuracy: 0.9757\n",
      "Epoch 38/60\n",
      "329/329 [==============================] - 1s 2ms/step - loss: 6.6190e-05 - accuracy: 1.0000 - val_loss: 0.1677 - val_accuracy: 0.9757\n",
      "Epoch 39/60\n",
      "329/329 [==============================] - 1s 2ms/step - loss: 5.6836e-05 - accuracy: 1.0000 - val_loss: 0.1696 - val_accuracy: 0.9761\n",
      "Epoch 40/60\n",
      "329/329 [==============================] - 1s 2ms/step - loss: 5.0065e-05 - accuracy: 1.0000 - val_loss: 0.1715 - val_accuracy: 0.9761\n",
      "Epoch 41/60\n",
      "329/329 [==============================] - 1s 2ms/step - loss: 4.2204e-05 - accuracy: 1.0000 - val_loss: 0.1738 - val_accuracy: 0.9766\n",
      "Epoch 42/60\n",
      "329/329 [==============================] - 1s 2ms/step - loss: 3.6141e-05 - accuracy: 1.0000 - val_loss: 0.1747 - val_accuracy: 0.9760\n",
      "Epoch 43/60\n",
      "329/329 [==============================] - 1s 2ms/step - loss: 3.1622e-05 - accuracy: 1.0000 - val_loss: 0.1771 - val_accuracy: 0.9760\n",
      "Epoch 44/60\n",
      "329/329 [==============================] - 1s 2ms/step - loss: 2.8324e-05 - accuracy: 1.0000 - val_loss: 0.1799 - val_accuracy: 0.9762\n",
      "Epoch 45/60\n",
      "329/329 [==============================] - 1s 2ms/step - loss: 2.5290e-05 - accuracy: 1.0000 - val_loss: 0.1815 - val_accuracy: 0.9760\n",
      "Epoch 46/60\n",
      "329/329 [==============================] - 1s 2ms/step - loss: 2.3369e-05 - accuracy: 1.0000 - val_loss: 0.1834 - val_accuracy: 0.9761\n",
      "Epoch 47/60\n",
      "329/329 [==============================] - 1s 2ms/step - loss: 0.0496 - accuracy: 0.9887 - val_loss: 0.1543 - val_accuracy: 0.9709\n",
      "Epoch 48/60\n",
      "329/329 [==============================] - 1s 2ms/step - loss: 0.0105 - accuracy: 0.9962 - val_loss: 0.1599 - val_accuracy: 0.9733\n",
      "Epoch 49/60\n",
      "329/329 [==============================] - 1s 2ms/step - loss: 0.0030 - accuracy: 0.9990 - val_loss: 0.1703 - val_accuracy: 0.9714\n",
      "Epoch 50/60\n",
      "329/329 [==============================] - 1s 2ms/step - loss: 0.0062 - accuracy: 0.9982 - val_loss: 0.1756 - val_accuracy: 0.9721\n",
      "Epoch 51/60\n",
      "329/329 [==============================] - 1s 2ms/step - loss: 7.5609e-04 - accuracy: 0.9998 - val_loss: 0.1661 - val_accuracy: 0.9738\n",
      "Epoch 52/60\n",
      "329/329 [==============================] - 1s 2ms/step - loss: 1.8093e-04 - accuracy: 1.0000 - val_loss: 0.1668 - val_accuracy: 0.9749\n",
      "Epoch 53/60\n",
      "329/329 [==============================] - 1s 2ms/step - loss: 9.6795e-05 - accuracy: 1.0000 - val_loss: 0.1698 - val_accuracy: 0.9749\n",
      "Epoch 54/60\n",
      "329/329 [==============================] - 1s 2ms/step - loss: 7.2147e-05 - accuracy: 1.0000 - val_loss: 0.1726 - val_accuracy: 0.9751\n",
      "Epoch 55/60\n",
      "329/329 [==============================] - 1s 2ms/step - loss: 6.1487e-05 - accuracy: 1.0000 - val_loss: 0.1752 - val_accuracy: 0.9751\n"
     ]
    }
   ],
   "source": [
    "from keras.callbacks import EarlyStopping\n",
    "\n",
    "early_stopping = EarlyStopping(monitor='loss',\n",
    "                              patience=10,\n",
    "                              mode='min')\n",
    "\n",
    "history = model_mnist.fit(x_train,\n",
    "                          y_train,\n",
    "                          epochs=60,\n",
    "                          batch_size=128,\n",
    "                          validation_data=(x_val, y_val),\n",
    "                          callbacks=[early_stopping])"
   ]
  },
  {
   "cell_type": "markdown",
   "metadata": {},
   "source": [
    "### 학습 결과 시각화\n",
    "history 에 dict 형태로 저장이됨. loss: 0.0090 - accuracy: 0.9969 - val_loss: 0.1745 - val_accuracy: 0.9717\n"
   ]
  },
  {
   "cell_type": "code",
   "execution_count": 67,
   "metadata": {},
   "outputs": [
    {
     "data": {
      "text/plain": [
       "dict_keys(['loss', 'accuracy', 'val_loss', 'val_accuracy'])"
      ]
     },
     "execution_count": 67,
     "metadata": {},
     "output_type": "execute_result"
    }
   ],
   "source": [
    "history.history.keys()"
   ]
  },
  {
   "cell_type": "code",
   "execution_count": 68,
   "metadata": {
    "scrolled": false
   },
   "outputs": [
    {
     "data": {
      "image/png": "[encoded data removed]",
      "text/plain": [
       "<Figure size 1080x576 with 2 Axes>"
      ]
     },
     "metadata": {},
     "output_type": "display_data"
    }
   ],
   "source": [
    "history_dict = history.history\n",
    "\n",
    "loss = history_dict['loss']\n",
    "val_loss = history_dict['val_loss']\n",
    "\n",
    "epochs = range(1, len(loss) + 1)\n",
    "\n",
    "fig = plt.figure(figsize=(15, 8))\n",
    "\n",
    "ax1 = fig.add_subplot(1, 2, 1)\n",
    "ax1.plot(epochs, loss, color='blue', label='train_loss')\n",
    "ax1.plot(epochs, val_loss, color='red', label='val_loss')\n",
    "ax1.set_title('Train and Validation Loss')\n",
    "ax1.set_xlabel('Epochs')\n",
    "ax1.set_ylabel('Loss')\n",
    "ax1.grid()\n",
    "ax1.legend()\n",
    "\n",
    "accuracy = history_dict['accuracy']\n",
    "val_accuracy = history_dict['val_accuracy']\n",
    "\n",
    "ax2 = fig.add_subplot(1, 2, 2)\n",
    "ax2.plot(epochs, accuracy, color='blue', label='train_accuracy')\n",
    "ax2.plot(epochs, val_accuracy, color='red', label='val_accuracy')\n",
    "ax2.set_title('Train and Validation Accuracy')\n",
    "ax2.set_xlabel('Epochs')\n",
    "ax2.set_ylabel('Accuracy')\n",
    "ax2.grid()\n",
    "ax2.legend()\n",
    "\n",
    "plt.show()"
   ]
  },
  {
   "cell_type": "markdown",
   "metadata": {},
   "source": [
    "### 모델 평가(1)\n",
    "* `evalute()`"
   ]
  },
  {
   "cell_type": "code",
   "execution_count": 69,
   "metadata": {},
   "outputs": [
    {
     "name": "stdout",
     "output_type": "stream",
     "text": [
      "313/313 [==============================] - 0s 761us/step - loss: 0.1236 - accuracy: 0.9792\n"
     ]
    },
    {
     "data": {
      "text/plain": [
       "[0.12359654903411865, 0.979200005531311]"
      ]
     },
     "execution_count": 69,
     "metadata": {},
     "output_type": "execute_result"
    }
   ],
   "source": [
    "model_mnist.evaluate(x_test, y_test)"
   ]
  },
  {
   "cell_type": "markdown",
   "metadata": {},
   "source": [
    "#### 학습된 모델을 통해 값 예측"
   ]
  },
  {
   "cell_type": "code",
   "execution_count": 70,
   "metadata": {},
   "outputs": [
    {
     "name": "stdout",
     "output_type": "stream",
     "text": [
      "(10000, 10)\n",
      "[2.1940202e-16 1.2095069e-14 4.7267125e-12 1.0773991e-09 1.3126349e-17\n",
      " 5.7393195e-16 2.7295505e-19 1.0000000e+00 1.8314140e-13 1.1073379e-12]\n"
     ]
    }
   ],
   "source": [
    "pred_ys = model_mnist.predict(x_test)\n",
    "print(pred_ys.shape)\n",
    "\n",
    "np.set_printoptions(precision=7)\n",
    "\n",
    "# 첫번째 있는 클래스가 각 클래스에 속할 확률 : 10개의 클래스 들의 확률값\n",
    "print(pred_ys[0])"
   ]
  },
  {
   "cell_type": "code",
   "execution_count": 71,
   "metadata": {},
   "outputs": [
    {
     "data": {
      "image/png": "[encoded data removed]",
      "text/plain": [
       "<Figure size 432x288 with 1 Axes>"
      ]
     },
     "metadata": {},
     "output_type": "display_data"
    }
   ],
   "source": [
    "arg_pred_y = np.argmax(pred_ys, axis=1)\n",
    "\n",
    "idx = 0\n",
    "\n",
    "plt.imshow(x_test[idx])\n",
    "plt.title('predicted label : {}'.format(arg_pred_y[idx]))\n",
    "plt.show()"
   ]
  },
  {
   "cell_type": "markdown",
   "metadata": {},
   "source": [
    "### 모델 평가 (2)\n",
    "* 혼동 행렬(Confusion Matrix))"
   ]
  },
  {
   "cell_type": "code",
   "execution_count": 72,
   "metadata": {},
   "outputs": [],
   "source": [
    "from sklearn.metrics import classification_report, confusion_matrix\n",
    "import seaborn as sns\n",
    "sns.set(style='white')"
   ]
  },
  {
   "cell_type": "code",
   "execution_count": 73,
   "metadata": {
    "scrolled": false
   },
   "outputs": [
    {
     "data": {
      "image/png": "[encoded data removed]",
      "text/plain": [
       "<Figure size 720x720 with 2 Axes>"
      ]
     },
     "metadata": {},
     "output_type": "display_data"
    }
   ],
   "source": [
    "plt.figure(figsize=(10, 10))\n",
    "cm = confusion_matrix(np.argmax(y_test, axis=-1), np.argmax(pred_ys, axis=-1))\n",
    "sns.heatmap(cm, annot=True, fmt='d', cmap='Blues')\n",
    "plt.xlabel('Predicted Label')\n",
    "plt.ylabel('True Label')\n",
    "plt.show()"
   ]
  },
  {
   "cell_type": "markdown",
   "metadata": {},
   "source": [
    "### 모델 평가 (3)\n",
    "* 분류 보고서"
   ]
  },
  {
   "cell_type": "code",
   "execution_count": 74,
   "metadata": {},
   "outputs": [
    {
     "name": "stdout",
     "output_type": "stream",
     "text": [
      "              precision    recall  f1-score   support\n",
      "\n",
      "           0       0.98      0.99      0.99       980\n",
      "           1       0.99      0.99      0.99      1135\n",
      "           2       0.98      0.98      0.98      1032\n",
      "           3       0.98      0.98      0.98      1010\n",
      "           4       0.98      0.98      0.98       982\n",
      "           5       0.98      0.97      0.98       892\n",
      "           6       0.98      0.98      0.98       958\n",
      "           7       0.98      0.98      0.98      1028\n",
      "           8       0.97      0.97      0.97       974\n",
      "           9       0.98      0.97      0.97      1009\n",
      "\n",
      "    accuracy                           0.98     10000\n",
      "   macro avg       0.98      0.98      0.98     10000\n",
      "weighted avg       0.98      0.98      0.98     10000\n",
      "\n"
     ]
    }
   ],
   "source": [
    "print(classification_report(np.argmax(y_test, axis=-1), np.argmax(pred_ys, axis=-1)))"
   ]
  },
  {
   "cell_type": "markdown",
   "metadata": {},
   "source": [
    "## 모델 저장과 복원\n",
    "- `save()`\n",
    "\n",
    "- `load_model()`\n",
    "\n",
    "- (주의)  \n",
    "  시퀀셜 API, 함수형 API에서는 **모델**의 저장 및 로드기 가능하지만 서브클래싱 방식으로는 할 수 없음  \n",
    "  \n",
    "  서브클래싱 방식\n",
    "      save_weights()\n",
    "      load_weights()  \n",
    "  위 두가지를 통해 **모델의 파라미터**만 저장 및 로드\n",
    "\n",
    "\n",
    "- JSON 형식\n",
    "  - `model.to_json()` (저장)\n",
    "\n",
    "  - `tf.keras.models.model_from_json(file_path)` (복원)\n",
    "\n",
    "- YAML로 직렬화\n",
    "  - `model.to_yaml()` (저장)\n",
    "\n",
    "  - `tf.keras.models.model_from_yaml(file_path)` (복원)\n"
   ]
  },
  {
   "cell_type": "code",
   "execution_count": 75,
   "metadata": {},
   "outputs": [],
   "source": [
    "model_mnist.save('model/mnist_model.h5')"
   ]
  },
  {
   "cell_type": "code",
   "execution_count": 76,
   "metadata": {},
   "outputs": [],
   "source": [
    "loaded_model = models.load_model('model/mnist_model.h5')"
   ]
  },
  {
   "cell_type": "code",
   "execution_count": 77,
   "metadata": {},
   "outputs": [
    {
     "name": "stdout",
     "output_type": "stream",
     "text": [
      "Model: \"sequential_3\"\n",
      "_________________________________________________________________\n",
      "Layer (type)                 Output Shape              Param #   \n",
      "=================================================================\n",
      "flatten (Flatten)            (None, 784)               0         \n",
      "_________________________________________________________________\n",
      "dense1 (Dense)               (None, 100)               78500     \n",
      "_________________________________________________________________\n",
      "dense2 (Dense)               (None, 64)                6464      \n",
      "_________________________________________________________________\n",
      "dense3 (Dense)               (None, 32)                2080      \n",
      "_________________________________________________________________\n",
      "output (Dense)               (None, 10)                330       \n",
      "=================================================================\n",
      "Total params: 87,374\n",
      "Trainable params: 87,374\n",
      "Non-trainable params: 0\n",
      "_________________________________________________________________\n"
     ]
    }
   ],
   "source": [
    "loaded_model.summary()"
   ]
  },
  {
   "cell_type": "code",
   "execution_count": 78,
   "metadata": {},
   "outputs": [
    {
     "name": "stdout",
     "output_type": "stream",
     "text": [
      "(10000, 10)\n",
      "[2.1940202e-16 1.2095069e-14 4.7267125e-12 1.0773991e-09 1.3126349e-17\n",
      " 5.7393195e-16 2.7295505e-19 1.0000000e+00 1.8314140e-13 1.1073379e-12]\n"
     ]
    }
   ],
   "source": [
    "pred_ys = loaded_model.predict(x_test)\n",
    "print(pred_ys.shape)\n",
    "\n",
    "np.set_printoptions(7)\n",
    "print(pred_ys[0])"
   ]
  },
  {
   "cell_type": "code",
   "execution_count": 79,
   "metadata": {},
   "outputs": [
    {
     "data": {
      "image/png": "[encoded data removed]",
      "text/plain": [
       "<Figure size 432x288 with 1 Axes>"
      ]
     },
     "metadata": {},
     "output_type": "display_data"
    }
   ],
   "source": [
    "arg_pred_y2 = np.argmax(pred_ys, axis=-1)\n",
    "\n",
    "plt.imshow(x_test[0])\n",
    "plt.title('Predicted label : {}'.format(arg_pred_y2[0]))\n",
    "plt.show()"
   ]
  },
  {
   "cell_type": "markdown",
   "metadata": {},
   "source": [
    "## 콜백 (Callbacks)\n",
    "\n",
    "- `fit()` 함수의 callbacks 매개변수를 사용하여 케라스가 훈련의 시작이나 끝에 호출할 객체 리스트를 지정할 수 있음\n",
    "\n",
    "- 여러 개 사용 가능\n",
    "\n",
    "- ModelCheckpoint\n",
    "  - `tf.keras.callbacks.ModelCheckpoint`\n",
    "  - 정기적으로 모델의 체크포인트를 저장하고, 문제가 발생할 때 복구하는데 사용\n",
    "\n",
    "- EarlyStopping\n",
    "  - `tf.keras.callbacks.EarlyStopping`\n",
    "  - 검증 성능이 한동안 개선되지 않을 경우 학습을 중단할 때 사용\n",
    "\n",
    "- LearningRateSchduler\n",
    "  - `tf.keras.callbacks.LearningRateSchduler`\n",
    "  - 최적화를 하는 동안 학습률(learning_rate)를 동적으로 변경할 때 사용\n",
    "\n",
    "- TensorBoard\n",
    "  - `tf.keras.callbacks.TensorBoard`\n",
    "  - 모델의 경과를 모니터링할 때 사용\n"
   ]
  },
  {
   "cell_type": "code",
   "execution_count": 80,
   "metadata": {},
   "outputs": [
    {
     "name": "stdout",
     "output_type": "stream",
     "text": [
      "전체 데이터 : (60000, 28, 28)\t레이블 : (60000,)\n",
      "\n",
      "학습 데이터 : (42000, 28, 28)\t레이블 : (42000,)\n",
      "검증 데이터 : (18000, 28, 28)\t레이블 : (18000,)\n",
      "\n",
      "테스트 데이터 : (10000, 28, 28)\t레이블 : (10000,)\n",
      "Model: \"sequential_4\"\n",
      "_________________________________________________________________\n",
      "Layer (type)                 Output Shape              Param #   \n",
      "=================================================================\n",
      "flatten (Flatten)            (None, 784)               0         \n",
      "_________________________________________________________________\n",
      "dense1 (Dense)               (None, 100)               78500     \n",
      "_________________________________________________________________\n",
      "dense2 (Dense)               (None, 64)                6464      \n",
      "_________________________________________________________________\n",
      "dense3 (Dense)               (None, 32)                2080      \n",
      "_________________________________________________________________\n",
      "output (Dense)               (None, 10)                330       \n",
      "=================================================================\n",
      "Total params: 87,374\n",
      "Trainable params: 87,374\n",
      "Non-trainable params: 0\n",
      "_________________________________________________________________\n"
     ]
    }
   ],
   "source": [
    "(x_train_full, y_train_full), (x_test, y_test) = load_data(path='mnist.npz')\n",
    "x_train, x_val, y_train, y_val = train_test_split(x_train_full, y_train_full,\n",
    "                                                  test_size=0.3,\n",
    "                                                  random_state=111)\n",
    "\n",
    "print(\"전체 데이터 : {}\\t레이블 : {}\\n\".format(x_train_full.shape, y_train_full.shape))\n",
    "print(\"학습 데이터 : {}\\t레이블 : {}\".format(x_train.shape, y_train.shape))\n",
    "print(\"검증 데이터 : {}\\t레이블 : {}\\n\".format(x_val.shape, y_val.shape))\n",
    "print(\"테스트 데이터 : {}\\t레이블 : {}\".format(x_test.shape, y_test.shape))\n",
    "\n",
    "x_train = x_train / 255.\n",
    "x_val = x_val / 255.\n",
    "x_test = x_test / 255.\n",
    "\n",
    "# to_categorical : 원-핫 벡터 형식으로 변환해줌\n",
    "y_train = to_categorical(y_train)\n",
    "y_val = to_categorical(y_val)\n",
    "y_test = to_categorical(y_test)\n",
    "\n",
    "def build_model():\n",
    "    model = Sequential([\n",
    "    Input(shape=(28, 28), name='input'), \n",
    "    Flatten(input_shape=[28, 28], name='flatten'), \n",
    "    Dense(100, activation='relu', name='dense1'),\n",
    "    Dense(64, activation='relu', name='dense2'),\n",
    "    Dense(32, activation='relu', name='dense3'),\n",
    "    Dense(10, activation='softmax', name='output')])\n",
    "    \n",
    "    model.compile(optimizer='sgd',\n",
    "                 loss='categorical_crossentropy',\n",
    "                 metrics=['accuracy'])\n",
    "    return model\n",
    "\n",
    "model = build_model()\n",
    "\n",
    "model.summary()"
   ]
  },
  {
   "cell_type": "code",
   "execution_count": 81,
   "metadata": {},
   "outputs": [],
   "source": [
    "from keras.models import load_model\n",
    "from keras.callbacks import ModelCheckpoint, EarlyStopping, LearningRateScheduler, TensorBoard"
   ]
  },
  {
   "cell_type": "markdown",
   "metadata": {},
   "source": [
    "### ModelCheckpoint"
   ]
  },
  {
   "cell_type": "code",
   "execution_count": 82,
   "metadata": {},
   "outputs": [
    {
     "name": "stdout",
     "output_type": "stream",
     "text": [
      "Epoch 1/10\n",
      "1313/1313 [==============================] - 1s 795us/step - loss: 1.4277 - accuracy: 0.5610\n",
      "Epoch 2/10\n",
      "1313/1313 [==============================] - 1s 774us/step - loss: 0.3584 - accuracy: 0.8994\n",
      "Epoch 3/10\n",
      "1313/1313 [==============================] - 1s 805us/step - loss: 0.2672 - accuracy: 0.9227\n",
      "Epoch 4/10\n",
      "1313/1313 [==============================] - 1s 790us/step - loss: 0.2276 - accuracy: 0.9347\n",
      "Epoch 5/10\n",
      "1313/1313 [==============================] - 1s 831us/step - loss: 0.1987 - accuracy: 0.9430\n",
      "Epoch 6/10\n",
      "1313/1313 [==============================] - 1s 794us/step - loss: 0.1742 - accuracy: 0.9487\n",
      "Epoch 7/10\n",
      "1313/1313 [==============================] - 1s 814us/step - loss: 0.1565 - accuracy: 0.9548\n",
      "Epoch 8/10\n",
      "1313/1313 [==============================] - 1s 784us/step - loss: 0.1382 - accuracy: 0.9615\n",
      "Epoch 9/10\n",
      "1313/1313 [==============================] - 1s 802us/step - loss: 0.1205 - accuracy: 0.9659\n",
      "Epoch 10/10\n",
      "1313/1313 [==============================] - 1s 760us/step - loss: 0.1125 - accuracy: 0.9664\n"
     ]
    }
   ],
   "source": [
    "check_point_cb = ModelCheckpoint('model/cb_mnist_model.h5')\n",
    "history = model.fit(x_train, y_train, epochs=10, callbacks=[check_point_cb])"
   ]
  },
  {
   "cell_type": "code",
   "execution_count": 83,
   "metadata": {},
   "outputs": [
    {
     "data": {
      "text/plain": [
       "dict_keys(['loss', 'accuracy'])"
      ]
     },
     "execution_count": 83,
     "metadata": {},
     "output_type": "execute_result"
    }
   ],
   "source": [
    " history.history.keys()"
   ]
  },
  {
   "cell_type": "code",
   "execution_count": 84,
   "metadata": {},
   "outputs": [
    {
     "name": "stdout",
     "output_type": "stream",
     "text": [
      "Model: \"sequential_4\"\n",
      "_________________________________________________________________\n",
      "Layer (type)                 Output Shape              Param #   \n",
      "=================================================================\n",
      "flatten (Flatten)            (None, 784)               0         \n",
      "_________________________________________________________________\n",
      "dense1 (Dense)               (None, 100)               78500     \n",
      "_________________________________________________________________\n",
      "dense2 (Dense)               (None, 64)                6464      \n",
      "_________________________________________________________________\n",
      "dense3 (Dense)               (None, 32)                2080      \n",
      "_________________________________________________________________\n",
      "output (Dense)               (None, 10)                330       \n",
      "=================================================================\n",
      "Total params: 87,374\n",
      "Trainable params: 87,374\n",
      "Non-trainable params: 0\n",
      "_________________________________________________________________\n"
     ]
    }
   ],
   "source": [
    "loaded_model = load_model('model/cb_mnist_model.h5')\n",
    "loaded_model.summary()"
   ]
  },
  {
   "cell_type": "markdown",
   "metadata": {},
   "source": [
    "최상의 모델만을 저장  \n",
    "* save_best_only=True"
   ]
  },
  {
   "cell_type": "code",
   "execution_count": 85,
   "metadata": {},
   "outputs": [
    {
     "name": "stdout",
     "output_type": "stream",
     "text": [
      "Epoch 1/10\n",
      "1313/1313 [==============================] - 2s 1ms/step - loss: 0.1038 - accuracy: 0.9695 - val_loss: 0.1306 - val_accuracy: 0.9598\n",
      "Epoch 2/10\n",
      "1313/1313 [==============================] - 1s 1ms/step - loss: 0.0955 - accuracy: 0.9721 - val_loss: 0.1269 - val_accuracy: 0.9612\n",
      "Epoch 3/10\n",
      "1313/1313 [==============================] - 1s 1ms/step - loss: 0.0881 - accuracy: 0.9738 - val_loss: 0.1229 - val_accuracy: 0.9623\n",
      "Epoch 4/10\n",
      "1313/1313 [==============================] - 1s 1ms/step - loss: 0.0818 - accuracy: 0.9757 - val_loss: 0.1253 - val_accuracy: 0.9625\n",
      "Epoch 5/10\n",
      "1313/1313 [==============================] - 1s 984us/step - loss: 0.0755 - accuracy: 0.9780 - val_loss: 0.1165 - val_accuracy: 0.9656\n",
      "Epoch 6/10\n",
      "1313/1313 [==============================] - 1s 1ms/step - loss: 0.0708 - accuracy: 0.9794 - val_loss: 0.1160 - val_accuracy: 0.9647\n",
      "Epoch 7/10\n",
      "1313/1313 [==============================] - 1s 1ms/step - loss: 0.0655 - accuracy: 0.9810 - val_loss: 0.1117 - val_accuracy: 0.9660\n",
      "Epoch 8/10\n",
      "1313/1313 [==============================] - 1s 993us/step - loss: 0.0609 - accuracy: 0.9824 - val_loss: 0.1057 - val_accuracy: 0.9687\n",
      "Epoch 9/10\n",
      "1313/1313 [==============================] - 1s 1ms/step - loss: 0.0565 - accuracy: 0.9841 - val_loss: 0.1068 - val_accuracy: 0.9684\n",
      "Epoch 10/10\n",
      "1313/1313 [==============================] - 1s 1ms/step - loss: 0.0530 - accuracy: 0.9854 - val_loss: 0.1075 - val_accuracy: 0.9681\n"
     ]
    }
   ],
   "source": [
    "mode = build_model()\n",
    "cp = ModelCheckpoint('model/keras_best_model.h5', save_best_only=True)\n",
    "\n",
    "history = model.fit(x_train, y_train, epochs=10, callbacks=[cp], validation_data=(x_val, y_val))"
   ]
  },
  {
   "cell_type": "code",
   "execution_count": 86,
   "metadata": {},
   "outputs": [
    {
     "data": {
      "text/plain": [
       "dict_keys(['loss', 'accuracy', 'val_loss', 'val_accuracy'])"
      ]
     },
     "execution_count": 86,
     "metadata": {},
     "output_type": "execute_result"
    }
   ],
   "source": [
    "history.history.keys()"
   ]
  },
  {
   "cell_type": "code",
   "execution_count": 87,
   "metadata": {},
   "outputs": [
    {
     "name": "stdout",
     "output_type": "stream",
     "text": [
      "Model: \"sequential_4\"\n",
      "_________________________________________________________________\n",
      "Layer (type)                 Output Shape              Param #   \n",
      "=================================================================\n",
      "flatten (Flatten)            (None, 784)               0         \n",
      "_________________________________________________________________\n",
      "dense1 (Dense)               (None, 100)               78500     \n",
      "_________________________________________________________________\n",
      "dense2 (Dense)               (None, 64)                6464      \n",
      "_________________________________________________________________\n",
      "dense3 (Dense)               (None, 32)                2080      \n",
      "_________________________________________________________________\n",
      "output (Dense)               (None, 10)                330       \n",
      "=================================================================\n",
      "Total params: 87,374\n",
      "Trainable params: 87,374\n",
      "Non-trainable params: 0\n",
      "_________________________________________________________________\n"
     ]
    }
   ],
   "source": [
    "load_model2 = load_model('model/keras_best_model.h5')\n",
    "load_model2.summary()"
   ]
  },
  {
   "cell_type": "markdown",
   "metadata": {},
   "source": [
    "### EarlyStopping\n",
    "- 일정 에포크(patience) 동안 검증 세트에 대한 점수가 오르지 않으면 학습을 멈춤\n",
    "\n",
    "- 모델이 향상되지 않으면 학습이 자동으로 중지되므로,  \n",
    "  에포크(epochs) 숫자를 크게 해도 무방\n",
    "\n",
    "- 학습이 끝난 후의 최상의 가중치를 복원하기 때문에 모델을 따로 복원할 필요없음"
   ]
  },
  {
   "cell_type": "code",
   "execution_count": 88,
   "metadata": {},
   "outputs": [
    {
     "name": "stdout",
     "output_type": "stream",
     "text": [
      "Epoch 1/50\n",
      "1313/1313 [==============================] - 2s 1ms/step - loss: 1.3836 - accuracy: 0.5950 - val_loss: 0.3828 - val_accuracy: 0.8844\n",
      "Epoch 2/50\n",
      "1313/1313 [==============================] - 1s 996us/step - loss: 0.3576 - accuracy: 0.8961 - val_loss: 0.3154 - val_accuracy: 0.9045\n",
      "Epoch 3/50\n",
      "1313/1313 [==============================] - 1s 1ms/step - loss: 0.2738 - accuracy: 0.9207 - val_loss: 0.2475 - val_accuracy: 0.9251\n",
      "Epoch 4/50\n",
      "1313/1313 [==============================] - 1s 1ms/step - loss: 0.2301 - accuracy: 0.9324 - val_loss: 0.2200 - val_accuracy: 0.9337\n",
      "Epoch 5/50\n",
      "1313/1313 [==============================] - 1s 1ms/step - loss: 0.2020 - accuracy: 0.9425 - val_loss: 0.1957 - val_accuracy: 0.9417\n",
      "Epoch 6/50\n",
      "1313/1313 [==============================] - 1s 1ms/step - loss: 0.1728 - accuracy: 0.9500 - val_loss: 0.1832 - val_accuracy: 0.9446\n",
      "Epoch 7/50\n",
      "1313/1313 [==============================] - 1s 1ms/step - loss: 0.1562 - accuracy: 0.9550 - val_loss: 0.1836 - val_accuracy: 0.9442\n",
      "Epoch 8/50\n",
      "1313/1313 [==============================] - 1s 1ms/step - loss: 0.1395 - accuracy: 0.9597 - val_loss: 0.1461 - val_accuracy: 0.9559\n",
      "Epoch 9/50\n",
      "1313/1313 [==============================] - 1s 1ms/step - loss: 0.1166 - accuracy: 0.9662 - val_loss: 0.1388 - val_accuracy: 0.9577\n",
      "Epoch 10/50\n",
      "1313/1313 [==============================] - 1s 1ms/step - loss: 0.1085 - accuracy: 0.9680 - val_loss: 0.1348 - val_accuracy: 0.9582\n",
      "Epoch 11/50\n",
      "1313/1313 [==============================] - 1s 1ms/step - loss: 0.1025 - accuracy: 0.9707 - val_loss: 0.1287 - val_accuracy: 0.9604\n",
      "Epoch 12/50\n",
      "1313/1313 [==============================] - 1s 1ms/step - loss: 0.0910 - accuracy: 0.9730 - val_loss: 0.1327 - val_accuracy: 0.9596\n",
      "Epoch 13/50\n",
      "1313/1313 [==============================] - 1s 1ms/step - loss: 0.0865 - accuracy: 0.9766 - val_loss: 0.1190 - val_accuracy: 0.9633\n",
      "Epoch 14/50\n",
      "1313/1313 [==============================] - 1s 1ms/step - loss: 0.0847 - accuracy: 0.9750 - val_loss: 0.1150 - val_accuracy: 0.9647\n",
      "Epoch 15/50\n",
      "1313/1313 [==============================] - 1s 1ms/step - loss: 0.0737 - accuracy: 0.9790 - val_loss: 0.1203 - val_accuracy: 0.9633\n",
      "Epoch 16/50\n",
      "1313/1313 [==============================] - 1s 1ms/step - loss: 0.0674 - accuracy: 0.9787 - val_loss: 0.1131 - val_accuracy: 0.9657\n",
      "Epoch 17/50\n",
      "1313/1313 [==============================] - 1s 1ms/step - loss: 0.0634 - accuracy: 0.9809 - val_loss: 0.1082 - val_accuracy: 0.9668\n",
      "Epoch 18/50\n",
      "1313/1313 [==============================] - 1s 1ms/step - loss: 0.0566 - accuracy: 0.9838 - val_loss: 0.1069 - val_accuracy: 0.9665\n",
      "Epoch 19/50\n",
      "1313/1313 [==============================] - 1s 1ms/step - loss: 0.0556 - accuracy: 0.9845 - val_loss: 0.1058 - val_accuracy: 0.9676\n",
      "Epoch 20/50\n",
      "1313/1313 [==============================] - 2s 1ms/step - loss: 0.0505 - accuracy: 0.9862 - val_loss: 0.1201 - val_accuracy: 0.9643\n",
      "Epoch 21/50\n",
      "1313/1313 [==============================] - 2s 1ms/step - loss: 0.0470 - accuracy: 0.9868 - val_loss: 0.1060 - val_accuracy: 0.9676\n",
      "Epoch 22/50\n",
      "1313/1313 [==============================] - 1s 1ms/step - loss: 0.0456 - accuracy: 0.9870 - val_loss: 0.1026 - val_accuracy: 0.9696\n",
      "Epoch 23/50\n",
      "1313/1313 [==============================] - 2s 1ms/step - loss: 0.0411 - accuracy: 0.9887 - val_loss: 0.1017 - val_accuracy: 0.9685\n",
      "Epoch 24/50\n",
      "1313/1313 [==============================] - 2s 1ms/step - loss: 0.0374 - accuracy: 0.9897 - val_loss: 0.1081 - val_accuracy: 0.9676\n",
      "Epoch 25/50\n",
      "1313/1313 [==============================] - 2s 1ms/step - loss: 0.0358 - accuracy: 0.9904 - val_loss: 0.1039 - val_accuracy: 0.9691\n",
      "Epoch 26/50\n",
      "1313/1313 [==============================] - 2s 1ms/step - loss: 0.0318 - accuracy: 0.9920 - val_loss: 0.1051 - val_accuracy: 0.9686\n",
      "Epoch 27/50\n",
      "1313/1313 [==============================] - 1s 1ms/step - loss: 0.0289 - accuracy: 0.9924 - val_loss: 0.1002 - val_accuracy: 0.9701\n",
      "Epoch 28/50\n",
      "1313/1313 [==============================] - 1s 1ms/step - loss: 0.0278 - accuracy: 0.9929 - val_loss: 0.1041 - val_accuracy: 0.9698\n",
      "Epoch 29/50\n",
      "1313/1313 [==============================] - 1s 1ms/step - loss: 0.0259 - accuracy: 0.9939 - val_loss: 0.1046 - val_accuracy: 0.9702\n",
      "Epoch 30/50\n",
      "1313/1313 [==============================] - 1s 1ms/step - loss: 0.0237 - accuracy: 0.9944 - val_loss: 0.1006 - val_accuracy: 0.9706\n",
      "Epoch 31/50\n",
      "1313/1313 [==============================] - 1s 1ms/step - loss: 0.0207 - accuracy: 0.9950 - val_loss: 0.1068 - val_accuracy: 0.9703\n",
      "Epoch 32/50\n",
      "1313/1313 [==============================] - 1s 1ms/step - loss: 0.0216 - accuracy: 0.9946 - val_loss: 0.1052 - val_accuracy: 0.9711\n",
      "Epoch 33/50\n",
      "1313/1313 [==============================] - 1s 1ms/step - loss: 0.0190 - accuracy: 0.9958 - val_loss: 0.1057 - val_accuracy: 0.9713\n",
      "Epoch 34/50\n",
      "1313/1313 [==============================] - 1s 1ms/step - loss: 0.0172 - accuracy: 0.9961 - val_loss: 0.1063 - val_accuracy: 0.9704\n",
      "Epoch 35/50\n",
      "1313/1313 [==============================] - 1s 1ms/step - loss: 0.0160 - accuracy: 0.9970 - val_loss: 0.1076 - val_accuracy: 0.9706\n",
      "Epoch 36/50\n",
      "1313/1313 [==============================] - 1s 1ms/step - loss: 0.0154 - accuracy: 0.9972 - val_loss: 0.1078 - val_accuracy: 0.9707\n",
      "Epoch 37/50\n",
      "1313/1313 [==============================] - 2s 1ms/step - loss: 0.0139 - accuracy: 0.9974 - val_loss: 0.1068 - val_accuracy: 0.9709\n"
     ]
    }
   ],
   "source": [
    "model = build_model()\n",
    "\n",
    "cp = ModelCheckpoint('model/keras_best_model2.h5', save_best_only=True)\n",
    "es = EarlyStopping(monitor='val_loss', patience=10, mode='min', restore_best_weights=True)\n",
    "history = model.fit(x_train, y_train, epochs=50, validation_data=(x_val, y_val), callbacks=[cp, es])"
   ]
  },
  {
   "cell_type": "markdown",
   "metadata": {},
   "source": [
    "### LearningRateScheduler"
   ]
  },
  {
   "cell_type": "code",
   "execution_count": 89,
   "metadata": {},
   "outputs": [],
   "source": [
    "def scheduler(epoch, learning_rate):\n",
    "    if epoch < 10:\n",
    "        return learning_rate\n",
    "    else:\n",
    "        return learning_rate * tf.math.exp(-0.1)"
   ]
  },
  {
   "cell_type": "code",
   "execution_count": 92,
   "metadata": {},
   "outputs": [
    {
     "data": {
      "text/plain": [
       "0.01"
      ]
     },
     "execution_count": 92,
     "metadata": {},
     "output_type": "execute_result"
    }
   ],
   "source": [
    "model = build_model()\n",
    "\n",
    "round(model.optimizer.lr.numpy(), 5)"
   ]
  },
  {
   "cell_type": "code",
   "execution_count": 95,
   "metadata": {},
   "outputs": [
    {
     "data": {
      "text/plain": [
       "0.00223"
      ]
     },
     "execution_count": 95,
     "metadata": {},
     "output_type": "execute_result"
    }
   ],
   "source": [
    "lr_scheduler_cb = LearningRateScheduler(scheduler)\n",
    "\n",
    "history = model.fit(x_train, y_train, epochs=15, callbacks=[lr_scheduler_cb], verbose=0)\n",
    "round(model.optimizer.lr.numpy(), 5)"
   ]
  },
  {
   "cell_type": "markdown",
   "metadata": {},
   "source": [
    "### Tensorboard\n",
    "- 텐서보드를 이용하여 학습과정 모니터링"
   ]
  },
  {
   "cell_type": "markdown",
   "metadata": {},
   "source": [
    "텐서보드를 사용하기 위해 logs폴더를 만들고, 학습이 진행되는 동안 로그 파일을 생성"
   ]
  },
  {
   "cell_type": "code",
   "execution_count": 96,
   "metadata": {},
   "outputs": [
    {
     "data": {
      "text/plain": [
       "<tensorflow.python.keras.callbacks.TensorBoard at 0x7ff43a9cae50>"
      ]
     },
     "execution_count": 96,
     "metadata": {},
     "output_type": "execute_result"
    }
   ],
   "source": [
    "TensorBoard(log_dir='.logs', histogram_freq=0, write_graph=True, write_images=True)"
   ]
  },
  {
   "cell_type": "code",
   "execution_count": 97,
   "metadata": {},
   "outputs": [
    {
     "name": "stdout",
     "output_type": "stream",
     "text": [
      "Epoch 1/30\n",
      "1313/1313 [==============================] - 2s 1ms/step - loss: 1.4535 - accuracy: 0.5405 - val_loss: 0.3613 - val_accuracy: 0.8942\n",
      "Epoch 2/30\n",
      "1313/1313 [==============================] - 1s 1ms/step - loss: 0.3446 - accuracy: 0.9012 - val_loss: 0.2893 - val_accuracy: 0.9136\n",
      "Epoch 3/30\n",
      "1313/1313 [==============================] - 1s 1ms/step - loss: 0.2654 - accuracy: 0.9236 - val_loss: 0.2394 - val_accuracy: 0.9283\n",
      "Epoch 4/30\n",
      "1313/1313 [==============================] - 1s 1ms/step - loss: 0.2292 - accuracy: 0.9336 - val_loss: 0.2210 - val_accuracy: 0.9347\n",
      "Epoch 5/30\n",
      "1313/1313 [==============================] - 1s 1ms/step - loss: 0.2051 - accuracy: 0.9413 - val_loss: 0.2018 - val_accuracy: 0.9402\n",
      "Epoch 6/30\n",
      "1313/1313 [==============================] - 1s 1ms/step - loss: 0.1807 - accuracy: 0.9472 - val_loss: 0.1910 - val_accuracy: 0.9445\n",
      "Epoch 7/30\n",
      "1313/1313 [==============================] - 1s 1ms/step - loss: 0.1644 - accuracy: 0.9505 - val_loss: 0.1704 - val_accuracy: 0.9507\n",
      "Epoch 8/30\n",
      "1313/1313 [==============================] - 1s 1ms/step - loss: 0.1486 - accuracy: 0.9575 - val_loss: 0.1541 - val_accuracy: 0.9550\n",
      "Epoch 9/30\n",
      "1313/1313 [==============================] - 1s 1ms/step - loss: 0.1243 - accuracy: 0.9645 - val_loss: 0.1466 - val_accuracy: 0.9563\n",
      "Epoch 10/30\n",
      "1313/1313 [==============================] - 1s 1ms/step - loss: 0.1181 - accuracy: 0.9653 - val_loss: 0.1408 - val_accuracy: 0.9586\n",
      "Epoch 11/30\n",
      "1313/1313 [==============================] - 1s 1ms/step - loss: 0.1099 - accuracy: 0.9698 - val_loss: 0.1328 - val_accuracy: 0.9606\n",
      "Epoch 12/30\n",
      "1313/1313 [==============================] - 1s 1ms/step - loss: 0.0982 - accuracy: 0.9716 - val_loss: 0.1299 - val_accuracy: 0.9623\n",
      "Epoch 13/30\n",
      "1313/1313 [==============================] - 1s 1ms/step - loss: 0.0940 - accuracy: 0.9742 - val_loss: 0.1246 - val_accuracy: 0.9634\n",
      "Epoch 14/30\n",
      "1313/1313 [==============================] - 1s 1ms/step - loss: 0.0894 - accuracy: 0.9744 - val_loss: 0.1173 - val_accuracy: 0.9654\n",
      "Epoch 15/30\n",
      "1313/1313 [==============================] - 1s 1ms/step - loss: 0.0786 - accuracy: 0.9770 - val_loss: 0.1227 - val_accuracy: 0.9640\n",
      "Epoch 16/30\n",
      "1313/1313 [==============================] - 2s 1ms/step - loss: 0.0733 - accuracy: 0.9787 - val_loss: 0.1158 - val_accuracy: 0.9654\n",
      "Epoch 17/30\n",
      "1313/1313 [==============================] - 1s 1ms/step - loss: 0.0708 - accuracy: 0.9799 - val_loss: 0.1139 - val_accuracy: 0.9666\n",
      "Epoch 18/30\n",
      "1313/1313 [==============================] - 1s 1ms/step - loss: 0.0630 - accuracy: 0.9828 - val_loss: 0.1093 - val_accuracy: 0.9677\n",
      "Epoch 19/30\n",
      "1313/1313 [==============================] - 1s 1ms/step - loss: 0.0608 - accuracy: 0.9833 - val_loss: 0.1079 - val_accuracy: 0.9683\n",
      "Epoch 20/30\n",
      "1313/1313 [==============================] - 1s 1ms/step - loss: 0.0572 - accuracy: 0.9849 - val_loss: 0.1132 - val_accuracy: 0.9671\n",
      "Epoch 21/30\n",
      "1313/1313 [==============================] - 1s 1ms/step - loss: 0.0534 - accuracy: 0.9853 - val_loss: 0.1079 - val_accuracy: 0.9681\n",
      "Epoch 22/30\n",
      "1313/1313 [==============================] - 1s 1ms/step - loss: 0.0493 - accuracy: 0.9863 - val_loss: 0.1023 - val_accuracy: 0.9712\n",
      "Epoch 23/30\n",
      "1313/1313 [==============================] - 1s 1ms/step - loss: 0.0453 - accuracy: 0.9880 - val_loss: 0.1019 - val_accuracy: 0.9698\n",
      "Epoch 24/30\n",
      "1313/1313 [==============================] - 1s 1ms/step - loss: 0.0416 - accuracy: 0.9884 - val_loss: 0.1047 - val_accuracy: 0.9689\n",
      "Epoch 25/30\n",
      "1313/1313 [==============================] - 1s 1ms/step - loss: 0.0385 - accuracy: 0.9900 - val_loss: 0.1024 - val_accuracy: 0.9703\n",
      "Epoch 26/30\n",
      "1313/1313 [==============================] - 1s 1ms/step - loss: 0.0353 - accuracy: 0.9911 - val_loss: 0.1012 - val_accuracy: 0.9717\n",
      "Epoch 27/30\n",
      "1313/1313 [==============================] - 1s 1ms/step - loss: 0.0323 - accuracy: 0.9918 - val_loss: 0.1007 - val_accuracy: 0.9709\n",
      "Epoch 28/30\n",
      "1313/1313 [==============================] - 1s 1ms/step - loss: 0.0309 - accuracy: 0.9923 - val_loss: 0.1032 - val_accuracy: 0.9710\n",
      "Epoch 29/30\n",
      "1313/1313 [==============================] - 1s 1ms/step - loss: 0.0295 - accuracy: 0.9921 - val_loss: 0.1004 - val_accuracy: 0.9708\n",
      "Epoch 30/30\n",
      "1313/1313 [==============================] - 1s 1ms/step - loss: 0.0275 - accuracy: 0.9925 - val_loss: 0.0994 - val_accuracy: 0.9722\n"
     ]
    },
    {
     "data": {
      "text/plain": [
       "<tensorflow.python.keras.callbacks.History at 0x7ff43aac2910>"
      ]
     },
     "execution_count": 97,
     "metadata": {},
     "output_type": "execute_result"
    }
   ],
   "source": [
    "log_dir='./logs'\n",
    "\n",
    "tendor_board_db = [TensorBoard(log_dir=log_dir, histogram_freq=0, write_graph=True, write_images=True)]\n",
    "\n",
    "model = build_model()\n",
    "\n",
    "model.fit(x_train, y_train, batch_size=32, validation_data=(x_val, y_val), epochs=30, callbacks=[tendor_board_db])"
   ]
  },
  {
   "cell_type": "code",
   "execution_count": 98,
   "metadata": {},
   "outputs": [],
   "source": [
    "%load_ext tensorboard"
   ]
  },
  {
   "cell_type": "markdown",
   "metadata": {},
   "source": [
    "load하는데 시간 소요\n",
    "\n",
    "- load가 안된다면 port번호를 바꿔서 실행!  \n",
    "  ex) %tensorboard --logdir {log_dir} port 8000"
   ]
  },
  {
   "cell_type": "code",
   "execution_count": 99,
   "metadata": {},
   "outputs": [
    {
     "data": {
      "text/html": [
       "\n",
       "      <iframe id=\"tensorboard-frame-eaa0bfa2483e415d\" width=\"100%\" height=\"800\" frameborder=\"0\">\n",
       "      </iframe>\n",
       "      <script>\n",
       "        (function() {\n",
       "          const frame = document.getElementById(\"tensorboard-frame-eaa0bfa2483e415d\");\n",
       "          const url = new URL(\"/\", window.location);\n",
       "          const port = 6006;\n",
       "          if (port) {\n",
       "            url.port = port;\n",
       "          }\n",
       "          frame.src = url;\n",
       "        })();\n",
       "      </script>\n",
       "    "
      ],
      "text/plain": [
       "<IPython.core.display.HTML object>"
      ]
     },
     "metadata": {},
     "output_type": "display_data"
    }
   ],
   "source": [
    "%tensorboard --logdir {log_dir}"
   ]
  },
  {
   "cell_type": "code",
   "execution_count": null,
   "metadata": {},
   "outputs": [],
   "source": []
  }
 ],
 "metadata": {
  "kernelspec": {
   "display_name": "Python 3",
   "language": "python",
   "name": "python3"
  },
  "language_info": {
   "codemirror_mode": {
    "name": "ipython",
    "version": 3
   },
   "file_extension": ".py",
   "mimetype": "text/x-python",
   "name": "python",
   "nbconvert_exporter": "python",
   "pygments_lexer": "ipython3",
   "version": "3.8.5"
  },
  "toc": {
   "base_numbering": 1,
   "nav_menu": {},
   "number_sections": true,
   "sideBar": true,
   "skip_h1_title": false,
   "title_cell": "Table of Contents",
   "title_sidebar": "Contents",
   "toc_cell": false,
   "toc_position": {},
   "toc_section_display": true,
   "toc_window_display": true
  },
  "varInspector": {
   "cols": {
    "lenName": 16,
    "lenType": 16,
    "lenVar": 40
   },
   "kernels_config": {
    "python": {
     "delete_cmd_postfix": "",
     "delete_cmd_prefix": "del ",
     "library": "var_list.py",
     "varRefreshCmd": "print(var_dic_list())"
    },
    "r": {
     "delete_cmd_postfix": ") ",
     "delete_cmd_prefix": "rm(",
     "library": "var_list.r",
     "varRefreshCmd": "cat(var_dic_list()) "
    }
   },
   "types_to_exclude": [
    "module",
    "function",
    "builtin_function_or_method",
    "instance",
    "_Feature"
   ],
   "window_display": false
  }
 },
 "nbformat": 4,
 "nbformat_minor": 4
}
