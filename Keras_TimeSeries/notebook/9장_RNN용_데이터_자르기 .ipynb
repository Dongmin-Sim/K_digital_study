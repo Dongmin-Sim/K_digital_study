{
 "cells": [
  {
   "cell_type": "markdown",
   "metadata": {},
   "source": [
    "# RNN 용 데이터 자르기"
   ]
  },
  {
   "cell_type": "markdown",
   "metadata": {},
   "source": [
    "RNN 모델은 주로 연속적인 데이터를 처리할 때 많이 사용함. 주가, 환율, 금리, 국제유가 등등  \n",
    "그러다보니 연속되는 데이터를 만났을때, 어떻게 데이터를 나눠야할지, 데이터 분리에 대한 어려움을 겪게 됨.  "
   ]
  },
  {
   "cell_type": "markdown",
   "metadata": {},
   "source": [
    "## split 함수 만들기 (다:1)\n",
    "1~10까지의 데이터로 시작해봄 "
   ]
  },
  {
   "cell_type": "code",
   "execution_count": 3,
   "metadata": {},
   "outputs": [],
   "source": [
    "# 1. 데이터\n",
    "import numpy as np \n",
    "dataset = np.array([1, 2, 3, 4, 5, 6, 7, 8, 9, 10])"
   ]
  },
  {
   "cell_type": "markdown",
   "metadata": {},
   "source": [
    "이 데이터로 RNN에 쓰고, 5개의 연속된 데이터로 그 다음의 값을 예측하는 모델을 만들고자 함.  \n",
    "1~ 4까지의 데이터를 가지고 5를 예측하고, 2 ~ 5까지의 데이터를 가지고 6을 예측하고, 마지막으로 6 ~ 9까지의 데이터로 10을 예측하는 데이터 셋으로 바꿔줌  \n",
    "그러면 아래와 같은 데이터가 될 것임  \n",
    "\n",
    "|x|y|\n",
    "|:---:|:---:|\n",
    "|1, 2, 3, 4|5|\n",
    "|2, 3, 4, 5|6|\n",
    "|3, 4, 5, 6|7|\n",
    "|4, 5, 6, 7|8|\n",
    "|5, 6, 7, 8|9|\n",
    "|6, 7, 8, 9|10|"
   ]
  },
  {
   "cell_type": "markdown",
   "metadata": {},
   "source": [
    "x 는 6행 4열이고, y 는 6행 1열임. 이렇게 값이 얼마 되지 않을때는 직접입력해도 충분하지만  \n",
    "데이터가 매우 많을때는 불가능함 "
   ]
  },
  {
   "cell_type": "code",
   "execution_count": 5,
   "metadata": {},
   "outputs": [
    {
     "name": "stdout",
     "output_type": "stream",
     "text": [
      "[[1 2 3 4]\n",
      " [2 3 4 5]\n",
      " [3 4 5 6]\n",
      " [4 5 6 7]\n",
      " [5 6 7 8]\n",
      " [6 7 8 9]] \n",
      " [ 5  6  7  8  9 10]\n"
     ]
    }
   ],
   "source": [
    "def split_xy1(dataset, timestep):\n",
    "    x, y = list(), list()\n",
    "    for i in range(len(dataset)):\n",
    "        end_number = i + timestep\n",
    "        if end_number > len(dataset) - 1:\n",
    "            break\n",
    "        tmp_x, tmp_y = dataset[i:end_number], dataset[end_number]\n",
    "        x.append(tmp_x)\n",
    "        y.append(tmp_y)\n",
    "    return np.array(x), np.array(y)\n",
    "\n",
    "x, y = split_xy1(dataset, 4)\n",
    "print(x, \"\\n\", y)"
   ]
  },
  {
   "cell_type": "markdown",
   "metadata": {},
   "source": [
    "위 함수는 연속된 데이터를 자르기 위해 만든 함수  \n",
    "RNN의 input_shape는 (samples, time_steps, feature) 로 들어가게됨. 데이터를 RNN 모델에 맞는 shape 로 만들어줘야 한다는 뜻  "
   ]
  },
  {
   "cell_type": "markdown",
   "metadata": {},
   "source": [
    "dataset은 우리가 나누고자 하는 데이터셋 time_steps 는 몇개의 컬럼(열)로 자를건지를 나타냄. "
   ]
  },
  {
   "cell_type": "markdown",
   "metadata": {},
   "source": [
    "`x, y = list(), list()` : 우선 리턴해줄 x, y를 리스트로 정의해줌 "
   ]
  },
  {
   "cell_type": "markdown",
   "metadata": {},
   "source": [
    "`for i in range(len(dataset)):` : dataset의 개수만큼 for 문을 돌림"
   ]
  },
  {
   "cell_type": "markdown",
   "metadata": {},
   "source": [
    "`end_number = i + time_steps` : 마지막 숫자가 몇인지를 정의함. 첫번째 반복문에서는 i=0 이므로 0+4=4, 마지막 숫자는 4가 됨.  \n",
    "\n",
    "`if end_number > len(dataset) -1` : 방금 구한 마지막 숫자가 dataset의 전체길이 -1 보다 크다면 반복문을 나오게 됨. (end_number가 10이면 종료됨)  \n",
    "   `break`"
   ]
  },
  {
   "cell_type": "markdown",
   "metadata": {},
   "source": [
    "`tmp_x, tmp_y = dataset[i:end_number], dataset[end_number]` : 총 time_step 수 만큼 tmp_x 에 저장하고, end_number의 요소를 tmp_y 변수에 저장한 다음, 리스트에 전달해줌  \n",
    "`x.append(tmp_x)`  \n",
    "`y.append(tmp_y)`"
   ]
  },
  {
   "cell_type": "code",
   "execution_count": 6,
   "metadata": {},
   "outputs": [
    {
     "name": "stdout",
     "output_type": "stream",
     "text": [
      "[[1 2 3]\n",
      " [2 3 4]\n",
      " [3 4 5]\n",
      " [4 5 6]\n",
      " [5 6 7]\n",
      " [6 7 8]\n",
      " [7 8 9]] \n",
      " [ 4  5  6  7  8  9 10]\n"
     ]
    }
   ],
   "source": [
    "x, y = split_xy1(dataset, 3)\n",
    "print(x, \"\\n\", y)"
   ]
  },
  {
   "cell_type": "markdown",
   "metadata": {},
   "source": [
    "## split 함수 만들기2 (다:다)\n",
    "데이터셋을 time_steps 만큼 잘라서 x값을 만들고, y 값 역시 원하는 만큼 잘라서 만드는 함수를 만들어봄.  \n",
    "RNN모델을 구현할때, 주식으로 비유하자면 3일전,2일전,1일전의 주식 데이터를 가지고, 내일과 모레의 주가를 예측하는 모델을 만드는 것이 가능함.  \n",
    "3개의 time_steps 로 x 를 만들고, 2개의 y컬럼을 만드는 함수를 만들어 봄"
   ]
  },
  {
   "cell_type": "code",
   "execution_count": 7,
   "metadata": {},
   "outputs": [],
   "source": [
    "# 1. 데이터\n",
    "import numpy as np \n",
    "dataset = np.array([1, 2, 3, 4, 5, 6, 7, 8, 9, 10])"
   ]
  },
  {
   "cell_type": "code",
   "execution_count": 12,
   "metadata": {},
   "outputs": [
    {
     "name": "stdout",
     "output_type": "stream",
     "text": [
      "[[1 2 3 4]\n",
      " [2 3 4 5]\n",
      " [3 4 5 6]\n",
      " [4 5 6 7]\n",
      " [5 6 7 8]] \n",
      " [[ 5  6]\n",
      " [ 6  7]\n",
      " [ 7  8]\n",
      " [ 8  9]\n",
      " [ 9 10]]\n",
      "x shape :  (5, 4)\n",
      "y shape :  (5, 2)\n"
     ]
    }
   ],
   "source": [
    "def split_xy1(dataset, timestep, y_column):\n",
    "    x, y = list(), list()\n",
    "    for i in range(len(dataset)):\n",
    "        x_end_number = i + timestep\n",
    "        y_end_number = x_end_number + y_column\n",
    "        \n",
    "        if y_end_number > len(dataset):\n",
    "            break\n",
    "            \n",
    "        tmp_x, tmp_y = dataset[i: x_end_number], dataset[x_end_number : y_end_number]\n",
    "        x.append(tmp_x)\n",
    "        y.append(tmp_y)\n",
    "        \n",
    "    return np.array(x), np.array(y)\n",
    "\n",
    "x, y = split_xy1(dataset, 4, 2)\n",
    "print(x, \"\\n\", y)\n",
    "print('x shape : ',x.shape)\n",
    "print('y shape : ',y.shape)"
   ]
  },
  {
   "cell_type": "code",
   "execution_count": null,
   "metadata": {},
   "outputs": [],
   "source": []
  }
 ],
 "metadata": {
  "kernelspec": {
   "display_name": "Python 3",
   "language": "python",
   "name": "python3"
  },
  "language_info": {
   "codemirror_mode": {
    "name": "ipython",
    "version": 3
   },
   "file_extension": ".py",
   "mimetype": "text/x-python",
   "name": "python",
   "nbconvert_exporter": "python",
   "pygments_lexer": "ipython3",
   "version": "3.8.5"
  },
  "toc": {
   "base_numbering": 1,
   "nav_menu": {},
   "number_sections": true,
   "sideBar": true,
   "skip_h1_title": false,
   "title_cell": "Table of Contents",
   "title_sidebar": "Contents",
   "toc_cell": false,
   "toc_position": {},
   "toc_section_display": true,
   "toc_window_display": false
  },
  "varInspector": {
   "cols": {
    "lenName": 16,
    "lenType": 16,
    "lenVar": 40
   },
   "kernels_config": {
    "python": {
     "delete_cmd_postfix": "",
     "delete_cmd_prefix": "del ",
     "library": "var_list.py",
     "varRefreshCmd": "print(var_dic_list())"
    },
    "r": {
     "delete_cmd_postfix": ") ",
     "delete_cmd_prefix": "rm(",
     "library": "var_list.r",
     "varRefreshCmd": "cat(var_dic_list()) "
    }
   },
   "types_to_exclude": [
    "module",
    "function",
    "builtin_function_or_method",
    "instance",
    "_Feature"
   ],
   "window_display": false
  }
 },
 "nbformat": 4,
 "nbformat_minor": 4
}
